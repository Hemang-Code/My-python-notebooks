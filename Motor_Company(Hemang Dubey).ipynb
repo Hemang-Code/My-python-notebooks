{
 "cells": [
  {
   "cell_type": "markdown",
   "id": "0725bf03-95b3-4cb7-adf7-c3fcffe17db3",
   "metadata": {
    "id": "0725bf03-95b3-4cb7-adf7-c3fcffe17db3"
   },
   "source": [
    "\n",
    "## Problem Statement: Predicting Customer Purchase Behavior for Bright Motor Company\n",
    "## Business Context:\n",
    "Bright Motor Company is looking to optimize its sales strategy by understanding the profiles of individuals likely to purchase their vehicles. They also want to price their products more effectively based on the customer’s profile and financial background.\n",
    "\n",
    "The company has collected data from previous inquiries and purchases, which includes demographic, professional, and financial attributes of individuals who interacted with their dealership. This information will be used to analyze customer behavior, predict the likelihood of a purchase, and estimate the optimal product pricing strategy.\n",
    "## Project Objective:\n",
    "Your objective is to help Bright Motor Company with the following:\n",
    "\n",
    "1. Exploratory Data Analysis (EDA):\n",
    "* Understand the structure of the data.\n",
    "* Identify trends and relationships between customer characteristics and purchase behavior.\n",
    "* Find potential data quality issues (missing values, outliers, etc.)\n",
    "* Visualize how salary, profession, education, and other factors relate to car buying behavior.\n",
    "\n",
    "2. Classification Task (Binary Classification):\n",
    "* Problem: Predict whether a customer will purchase a car or not (you may use the Make or create a derived binary target like Will_Purchase = 1 if Make is not null).\n",
    "* Goal: Build and evaluate classification models (e.g., Logistic Regression, Decision Trees, Random Forest, etc.) to predict customer purchase decisions based on demographic and financial features.\n",
    "\n",
    "3. Regression Task (Predictive Modeling):\n",
    "* Problem: Predict the Price of the car purchased by the customer based on their demographic and financial profile.\n",
    "* Goal: Build regression models (e.g., Linear Regression, Decision Tree Regressor, etc.) to estimate the appropriate price point for a customer.\n",
    "\n",
    "4. Model Evaluation:\n",
    "* Use appropriate metrics like:\n",
    "* Classification: Accuracy, Precision, Recall, F1-Score, ROC-AUC\n",
    "* Regression: RMSE, MAE, R²\n",
    "* Perform cross-validation and hyperparameter tuning where applicable.\n",
    "\n",
    "5. Model Deployment (Optional if time permits):\n",
    "* Deploy the classification and regression models using Flask/Streamlit to demonstrate how Bright Motor Company can use this model in real-time.\n",
    "* Create a basic UI where the company can input customer data and receive purchase predictions and recommended price."
   ]
  },
  {
   "cell_type": "code",
   "execution_count": null,
   "id": "764b0088-3072-4dab-a359-bad6856c67d3",
   "metadata": {},
   "outputs": [],
   "source": []
  },
  {
   "cell_type": "markdown",
   "id": "31b91a4f-8d6b-4949-9d7c-971c17ccb3a5",
   "metadata": {
    "id": "31b91a4f-8d6b-4949-9d7c-971c17ccb3a5"
   },
   "source": [
    "#### Importing the necessary libraries"
   ]
  },
  {
   "cell_type": "code",
   "execution_count": null,
   "id": "b7a5be9e-1ff9-4e5d-ac6e-4ad3378c1af1",
   "metadata": {
    "id": "b7a5be9e-1ff9-4e5d-ac6e-4ad3378c1af1"
   },
   "outputs": [],
   "source": [
    "import numpy as np\n",
    "import pandas as pd\n",
    "import seaborn as sns\n",
    "import matplotlib.pyplot as plt"
   ]
  },
  {
   "cell_type": "markdown",
   "id": "0df47f28-33bd-4d55-ab3c-9eeddc6bb1c1",
   "metadata": {
    "id": "0df47f28-33bd-4d55-ab3c-9eeddc6bb1c1"
   },
   "source": [
    "#### Loading the dataset"
   ]
  },
  {
   "cell_type": "code",
   "execution_count": null,
   "id": "4854717a-9089-46ed-8623-21cd5aa82da0",
   "metadata": {
    "id": "4854717a-9089-46ed-8623-21cd5aa82da0"
   },
   "outputs": [],
   "source": [
    "df = pd.read_csv('data/bright_automotive_company.csv')"
   ]
  },
  {
   "cell_type": "markdown",
   "id": "5d34749d-296c-46aa-9e14-8a580ecbfed3",
   "metadata": {
    "id": "5d34749d-296c-46aa-9e14-8a580ecbfed3"
   },
   "source": [
    "## 1- Basic Exploration of data\n",
    "* 1.1 Checking the top 5 rows\n",
    "* 1.2 Checking the shape of dataset\n",
    "* 1.3 Checking the info of dataset\n",
    "* 1.4 Checking the Statistical summary"
   ]
  },
  {
   "cell_type": "markdown",
   "id": "57ada6d8-89ca-4247-ac01-746885a7f3df",
   "metadata": {
    "id": "57ada6d8-89ca-4247-ac01-746885a7f3df"
   },
   "source": [
    "#### 1.1 Checking the top 5 rows"
   ]
  },
  {
   "cell_type": "code",
   "execution_count": null,
   "id": "94fe07cc",
   "metadata": {},
   "outputs": [],
   "source": [
    "print(df.columns)"
   ]
  },
  {
   "cell_type": "code",
   "execution_count": null,
   "id": "f7931527-2e38-4011-bda0-50dc9b02ee49",
   "metadata": {
    "id": "f7931527-2e38-4011-bda0-50dc9b02ee49"
   },
   "outputs": [],
   "source": [
    "df.head()"
   ]
  },
  {
   "cell_type": "markdown",
   "id": "de72de4d-5676-45a4-b6df-667b3fccbfd6",
   "metadata": {
    "id": "de72de4d-5676-45a4-b6df-667b3fccbfd6"
   },
   "source": [
    "###### Observations:\n",
    "1. There are some values in Gender which are required to be corrected.\n",
    "2. In the feature No_of_Dependents we are having wrong entries like \"?\".\n",
    "3."
   ]
  },
  {
   "cell_type": "markdown",
   "id": "36b49c81-a0a4-4bf9-bf77-a2f4793315b3",
   "metadata": {
    "id": "36b49c81-a0a4-4bf9-bf77-a2f4793315b3"
   },
   "source": [
    "#### 1.2 Checking the shape (no.of rows and columns in dataset)"
   ]
  },
  {
   "cell_type": "code",
   "execution_count": null,
   "id": "ada25353-9163-422f-a2af-da797633448f",
   "metadata": {
    "id": "ada25353-9163-422f-a2af-da797633448f"
   },
   "outputs": [],
   "source": [
    "df.shape"
   ]
  },
  {
   "cell_type": "markdown",
   "id": "786ba258-5e85-40bb-8680-1587ff8fcaad",
   "metadata": {
    "id": "786ba258-5e85-40bb-8680-1587ff8fcaad"
   },
   "source": [
    "###### Result:\n",
    "There are _ rows and _ columns in dataset"
   ]
  },
  {
   "cell_type": "markdown",
   "id": "67b6df64-4081-4ec9-9c77-7a80c9af05b4",
   "metadata": {
    "id": "67b6df64-4081-4ec9-9c77-7a80c9af05b4"
   },
   "source": [
    "#### 1.3 Checking the info of dataset"
   ]
  },
  {
   "cell_type": "code",
   "execution_count": null,
   "id": "3fde8808-6512-4dc9-a878-fbe465e0fa3e",
   "metadata": {
    "id": "3fde8808-6512-4dc9-a878-fbe465e0fa3e"
   },
   "outputs": [],
   "source": [
    "df.info()"
   ]
  },
  {
   "cell_type": "markdown",
   "id": "8a7abb07-3b40-44d9-9339-42d63f76c5d6",
   "metadata": {
    "id": "8a7abb07-3b40-44d9-9339-42d63f76c5d6"
   },
   "source": [
    "###### Observations:\n",
    "1."
   ]
  },
  {
   "cell_type": "code",
   "execution_count": null,
   "id": "d0feac3c-06cc-4c6a-8d3d-c7b03f5317a8",
   "metadata": {},
   "outputs": [],
   "source": [
    "df[df['Age']>60]"
   ]
  },
  {
   "cell_type": "markdown",
   "id": "f6cc9e2a-fab7-4bd3-8791-7ae32a19021b",
   "metadata": {
    "id": "f6cc9e2a-fab7-4bd3-8791-7ae32a19021b"
   },
   "source": [
    "#### 1.4 Statistical summary"
   ]
  },
  {
   "cell_type": "code",
   "execution_count": null,
   "id": "1b514df5-b536-4171-ab9e-e0c042358d7b",
   "metadata": {},
   "outputs": [],
   "source": [
    "df.describe()"
   ]
  },
  {
   "cell_type": "markdown",
   "id": "865c25ef-cedd-4335-b8e6-345ebcac64a8",
   "metadata": {
    "id": "865c25ef-cedd-4335-b8e6-345ebcac64a8"
   },
   "source": [
    "###### Observations:\n",
    "* 1- Partners of few customers may be home maker and not doing jobs.\n",
    "* 2- We need to check the record where age is 120.\n",
    "* 3- We need to check the record where age is 14."
   ]
  },
  {
   "cell_type": "code",
   "execution_count": null,
   "id": "dff2c425-ccf2-49e5-a602-1a18f9536a4d",
   "metadata": {},
   "outputs": [],
   "source": []
  },
  {
   "cell_type": "markdown",
   "id": "4d99fc32",
   "metadata": {
    "id": "4d99fc32"
   },
   "source": [
    "## 2-Exploratory Data Analysis (EDA)\n",
    "* 2.1 Checking the duplicate rows and fetching them\n",
    "* 2.2 Checking Null Values (columnwise, percentage wise in columns and row-wise\n",
    "* 2.3 Outliers Analysis\n",
    "* 2.4 Univariate Analysis\n",
    "* 2.5 Bivariate Analysis"
   ]
  },
  {
   "cell_type": "markdown",
   "id": "642f3543-cdf0-46c8-948a-03357446ab7f",
   "metadata": {
    "id": "642f3543-cdf0-46c8-948a-03357446ab7f"
   },
   "source": [
    "#### 2.1 Checking the duplicate rows"
   ]
  },
  {
   "cell_type": "code",
   "execution_count": null,
   "id": "367bc6a6-9c30-4c75-b4f8-471923ea6da4",
   "metadata": {
    "id": "367bc6a6-9c30-4c75-b4f8-471923ea6da4"
   },
   "outputs": [],
   "source": [
    "# total number of duplicate rows\n",
    "df.duplicated().sum()"
   ]
  },
  {
   "cell_type": "code",
   "execution_count": null,
   "id": "468ae0e0-ffb0-4cbe-b402-12f390d57d9e",
   "metadata": {
    "id": "468ae0e0-ffb0-4cbe-b402-12f390d57d9e"
   },
   "outputs": [],
   "source": [
    "# Fetching duplicate rows\n",
    "df[df.duplicated()]"
   ]
  },
  {
   "cell_type": "markdown",
   "id": "9cf43e63-5ac0-4e14-a548-3332d803ab78",
   "metadata": {
    "id": "9cf43e63-5ac0-4e14-a548-3332d803ab78"
   },
   "source": [
    "###### Results:\n",
    "1."
   ]
  },
  {
   "cell_type": "code",
   "execution_count": null,
   "id": "984b2bc8-7446-4126-b861-af9c0257e379",
   "metadata": {},
   "outputs": [],
   "source": []
  },
  {
   "cell_type": "markdown",
   "id": "d0803119-9bb6-45a7-8958-fd21f79cb5b7",
   "metadata": {
    "id": "d0803119-9bb6-45a7-8958-fd21f79cb5b7"
   },
   "source": [
    "### 2.2 Checking Null Values"
   ]
  },
  {
   "cell_type": "code",
   "execution_count": null,
   "id": "107ce687-b683-4aeb-bad2-758c8bd9c32c",
   "metadata": {
    "id": "107ce687-b683-4aeb-bad2-758c8bd9c32c"
   },
   "outputs": [],
   "source": [
    "# Column-wise null values\n",
    "df.isnull().sum()"
   ]
  },
  {
   "cell_type": "code",
   "execution_count": null,
   "id": "17970cb4-2075-4d88-8147-e6b9bb7d3d9c",
   "metadata": {
    "id": "17970cb4-2075-4d88-8147-e6b9bb7d3d9c"
   },
   "outputs": [],
   "source": [
    "# Percentage wise null values in columns\n",
    "df.isnull().sum()/len(df)*100"
   ]
  },
  {
   "cell_type": "code",
   "execution_count": null,
   "id": "a76374a7-78de-4893-bd63-96bf99ff34a3",
   "metadata": {
    "id": "a76374a7-78de-4893-bd63-96bf99ff34a3"
   },
   "outputs": [],
   "source": [
    "# row-wise null values\n",
    "df.isnull().sum(axis=1).sort_values(ascending=False)"
   ]
  },
  {
   "cell_type": "markdown",
   "id": "aa1b46c9-3b85-4b02-8f69-093870006fc3",
   "metadata": {
    "id": "aa1b46c9-3b85-4b02-8f69-093870006fc3"
   },
   "source": [
    "###### Results:\n"
   ]
  },
  {
   "cell_type": "code",
   "execution_count": null,
   "id": "ae32fd72-2f2b-45a4-a642-0abe87bd1eb3",
   "metadata": {},
   "outputs": [],
   "source": []
  },
  {
   "cell_type": "markdown",
   "id": "40759a61-a303-486e-b6c8-28a0b8510173",
   "metadata": {
    "id": "40759a61-a303-486e-b6c8-28a0b8510173"
   },
   "source": [
    "### 2.3 Outliers Analysis\n",
    "* 2.3.1 Visualizing outliers\n",
    "* 2.3.2 Finding the no. of outliers in each column"
   ]
  },
  {
   "cell_type": "code",
   "execution_count": null,
   "id": "218fb6fb-161d-4606-ad72-777a39e1badb",
   "metadata": {
    "id": "218fb6fb-161d-4606-ad72-777a39e1badb"
   },
   "outputs": [],
   "source": [
    "# Fetching the datasets having categorical & Numerical variables seperately\n",
    "cat_variables= df.select_dtypes('object')\n",
    "num_variables= df.select_dtypes(['int','float'])"
   ]
  },
  {
   "cell_type": "markdown",
   "id": "d068aa4f-4a63-4b48-9789-bebd3d26b56d",
   "metadata": {
    "id": "d068aa4f-4a63-4b48-9789-bebd3d26b56d"
   },
   "source": [
    "##### 2.3.1 Visualizing outliers"
   ]
  },
  {
   "cell_type": "code",
   "execution_count": null,
   "id": "f824985f-d8d4-4847-9e66-71f6daba67eb",
   "metadata": {
    "id": "f824985f-d8d4-4847-9e66-71f6daba67eb"
   },
   "outputs": [],
   "source": [
    "for i in num_variables:\n",
    "    plt.figure(figsize=(5,2))\n",
    "    sns.boxplot(data=df, x=i)\n"
   ]
  },
  {
   "cell_type": "markdown",
   "id": "23cdabb3-bf6f-4e71-86a9-20c414f59426",
   "metadata": {
    "id": "23cdabb3-bf6f-4e71-86a9-20c414f59426"
   },
   "source": [
    "###### Observations:\n",
    "1.\n",
    "2."
   ]
  },
  {
   "cell_type": "markdown",
   "id": "25de68d9-c392-4d5a-80a3-c9c8b0b33474",
   "metadata": {
    "id": "25de68d9-c392-4d5a-80a3-c9c8b0b33474"
   },
   "source": [
    "##### 2.3.2 Finding the no. of outliers in each column"
   ]
  },
  {
   "cell_type": "code",
   "execution_count": null,
   "id": "8d16f3dd-cc72-4245-8ef5-7127ad711797",
   "metadata": {
    "id": "8d16f3dd-cc72-4245-8ef5-7127ad711797"
   },
   "outputs": [],
   "source": [
    "for i in num_variables:\n",
    "    Q1= np.quantile(df[i],0.25)\n",
    "    Q3= np.quantile(df[i],0.75)\n",
    "    IQR= Q3-Q1\n",
    "    lower_limit= Q1- 1.5*IQR\n",
    "    upper_limit= Q3+ 1.5*IQR\n",
    "    print(\"Number of ouliers in \",i,\":\", len(df[df[i]>upper_limit]))\n",
    "    print('-----------------------')"
   ]
  },
  {
   "cell_type": "markdown",
   "id": "673b46d9-22cd-4b38-8a78-ce87737947b7",
   "metadata": {
    "id": "673b46d9-22cd-4b38-8a78-ce87737947b7"
   },
   "source": [
    "###### Results:\n",
    "1.\n",
    "2."
   ]
  },
  {
   "cell_type": "code",
   "execution_count": null,
   "id": "87d49121-d632-4ff7-b25a-698f12643cc9",
   "metadata": {},
   "outputs": [],
   "source": []
  },
  {
   "cell_type": "markdown",
   "id": "1e98ea80-6505-4393-8bc4-39873731a97f",
   "metadata": {
    "id": "1e98ea80-6505-4393-8bc4-39873731a97f"
   },
   "source": [
    "### 2.4 Univariate Analysis"
   ]
  },
  {
   "cell_type": "markdown",
   "id": "d028c6d0-a05e-49e6-9266-8a49f1fd83ca",
   "metadata": {
    "id": "d028c6d0-a05e-49e6-9266-8a49f1fd83ca"
   },
   "source": [
    "##### 2.4.1. Categorical variables vizual analysis:"
   ]
  },
  {
   "cell_type": "code",
   "execution_count": null,
   "id": "440cf818-48ac-4496-ab6f-b8f5840e6364",
   "metadata": {},
   "outputs": [],
   "source": [
    "df.head()"
   ]
  },
  {
   "cell_type": "code",
   "execution_count": null,
   "id": "94fbc63a-7d67-4545-9307-5c8e4a9b1871",
   "metadata": {},
   "outputs": [],
   "source": [
    "plt.figure(figsize=(5,2))\n",
    "sns.countplot(data=df, x='Make')\n",
    "plt.title('Countplot of Make');"
   ]
  },
  {
   "cell_type": "code",
   "execution_count": null,
   "id": "661ac891-236a-4cc5-9ec3-3eb81bebcf74",
   "metadata": {
    "id": "661ac891-236a-4cc5-9ec3-3eb81bebcf74",
    "scrolled": true
   },
   "outputs": [],
   "source": [
    "for i in cat_variables.columns:\n",
    "    plt.figure(figsize=(5,2))\n",
    "    sns.countplot(data=df, x=i)\n",
    "    plt.show()"
   ]
  },
  {
   "cell_type": "markdown",
   "id": "7990485a-4018-47ea-91d0-822e8254eb1a",
   "metadata": {
    "id": "7990485a-4018-47ea-91d0-822e8254eb1a"
   },
   "source": [
    "##### 2.4.2. Categorical variables numerical analysis:"
   ]
  },
  {
   "cell_type": "code",
   "execution_count": null,
   "id": "2630741c-60a9-4ab8-b7f3-2b704c805011",
   "metadata": {
    "id": "2630741c-60a9-4ab8-b7f3-2b704c805011"
   },
   "outputs": [],
   "source": [
    "for i in cat_variables.columns:\n",
    "    print(df[i].nunique())\n",
    "    print(df[i].value_counts())\n",
    "    print('-------------')"
   ]
  },
  {
   "cell_type": "markdown",
   "id": "c801bc96-30b9-4bc5-96d4-f1cd3ae65b89",
   "metadata": {
    "id": "c801bc96-30b9-4bc5-96d4-f1cd3ae65b89"
   },
   "source": [
    "###### Observations:\n",
    "1.\n",
    "2."
   ]
  },
  {
   "cell_type": "code",
   "execution_count": null,
   "id": "5fa98468-042f-4d02-8035-463c663cf9f1",
   "metadata": {},
   "outputs": [],
   "source": []
  },
  {
   "cell_type": "markdown",
   "id": "a501d22b-9cc7-479c-b384-536258fbed05",
   "metadata": {
    "id": "a501d22b-9cc7-479c-b384-536258fbed05"
   },
   "source": [
    "##### 2.4.3. Numerical variables analysis:"
   ]
  },
  {
   "cell_type": "code",
   "execution_count": null,
   "id": "080a499d-cd85-4bcd-a3f8-8e62892f4327",
   "metadata": {
    "id": "080a499d-cd85-4bcd-a3f8-8e62892f4327"
   },
   "outputs": [],
   "source": [
    "for i in num_variables:\n",
    "    plt.figure(figsize=(5,2))\n",
    "    sns.histplot(data=df,x=i);"
   ]
  },
  {
   "cell_type": "markdown",
   "id": "ab743dd6-6471-4809-8a99-dcd6303f13f8",
   "metadata": {
    "id": "ab743dd6-6471-4809-8a99-dcd6303f13f8"
   },
   "source": [
    "###### Observations:\n",
    "1."
   ]
  },
  {
   "cell_type": "code",
   "execution_count": null,
   "id": "001a6f2d-8d9b-4a73-af26-99edd184fa12",
   "metadata": {},
   "outputs": [],
   "source": []
  },
  {
   "cell_type": "markdown",
   "id": "6e52769d-ff21-4be1-bcdb-68b0f1070423",
   "metadata": {
    "id": "6e52769d-ff21-4be1-bcdb-68b0f1070423"
   },
   "source": [
    "### 2.5 Bi-variate analysis\n",
    "* Since during model building we will be having \"Price\" and \"Make\" as our target variables so we will only do bi-variate analysis of these features only."
   ]
  },
  {
   "cell_type": "markdown",
   "id": "1268b4ac-88f9-4e1d-8e21-f14badbf3f47",
   "metadata": {
    "id": "1268b4ac-88f9-4e1d-8e21-f14badbf3f47"
   },
   "source": [
    "####  2.5.1. Relationship of  'Price' with Categorical features\n",
    "* Few plots which we can use are:\n",
    "    * Boxplot\n",
    "    * Scatterplot\n",
    "    * Barplot\n",
    "    * Pointplot"
   ]
  },
  {
   "cell_type": "markdown",
   "id": "2d0c4351-8c3c-4396-8e98-776ea7279f75",
   "metadata": {
    "id": "2d0c4351-8c3c-4396-8e98-776ea7279f75"
   },
   "source": [
    "##### 2.5.1.1. Numerical analysis:"
   ]
  },
  {
   "cell_type": "code",
   "execution_count": null,
   "id": "8d05491a-6ea5-4d3c-9185-1427bd9a84f1",
   "metadata": {
    "id": "8d05491a-6ea5-4d3c-9185-1427bd9a84f1"
   },
   "outputs": [],
   "source": [
    "for i in cat_variables.columns:\n",
    "    print(i)\n",
    "    print(df.groupby(i)['Price'].mean())\n",
    "    print('--------------------')"
   ]
  },
  {
   "cell_type": "markdown",
   "id": "f315ba4e-e862-4a35-b767-a8fbb55f14a7",
   "metadata": {
    "id": "f315ba4e-e862-4a35-b767-a8fbb55f14a7"
   },
   "source": [
    "##### 2.5.1.2. Visual analysis:"
   ]
  },
  {
   "cell_type": "code",
   "execution_count": null,
   "id": "51dd14c2-3930-4879-9818-b31361b20521",
   "metadata": {
    "id": "51dd14c2-3930-4879-9818-b31361b20521"
   },
   "outputs": [],
   "source": [
    "# barplots for Price vs all other categorical variables\n",
    "for i in cat_variables.columns:\n",
    "    plt.figure(figsize=(5,2))\n",
    "    sns.barplot(data=df, y='Price',x=i,errorbar=None);"
   ]
  },
  {
   "cell_type": "markdown",
   "id": "7d66a79f-fdca-412b-9b77-93c6a85765a5",
   "metadata": {
    "id": "7d66a79f-fdca-412b-9b77-93c6a85765a5"
   },
   "source": [
    "###### Observation:\n",
    "1- Price vs Gender- Avg price of cars is hifh for females as compared to males\n",
    "2-"
   ]
  },
  {
   "cell_type": "code",
   "execution_count": null,
   "id": "ab281909-b875-4708-8ab0-cb0817b2c317",
   "metadata": {},
   "outputs": [],
   "source": []
  },
  {
   "cell_type": "markdown",
   "id": "458e989f-7df5-488e-800a-5c19a9be09cb",
   "metadata": {
    "id": "458e989f-7df5-488e-800a-5c19a9be09cb"
   },
   "source": [
    "####  2.5.2. Relationship of  'Price' with other numerical features\n",
    "* Few plots which we can use are:\n",
    "  * Pairplot\n",
    "  * Jointplot\n",
    "  * scatterplot"
   ]
  },
  {
   "cell_type": "code",
   "execution_count": null,
   "id": "4ebb8a38-212b-48d0-ab0a-3cc2be6a53a3",
   "metadata": {
    "id": "4ebb8a38-212b-48d0-ab0a-3cc2be6a53a3"
   },
   "outputs": [],
   "source": [
    "for i in num_variables.columns:\n",
    "    plt.figure(figsize=(5,2))\n",
    "    sns.scatterplot(data=df, y='Price',x=i);"
   ]
  },
  {
   "cell_type": "markdown",
   "id": "1f9e3870-ee1d-42c0-b80a-7fb7c886836f",
   "metadata": {
    "id": "1f9e3870-ee1d-42c0-b80a-7fb7c886836f"
   },
   "source": [
    "##### Observations:\n",
    "We cannot observe any pattern in the scatterplots which shows that there might be no correlation between price and any other numerical feature"
   ]
  },
  {
   "cell_type": "markdown",
   "id": "197470cd-22ec-4dd2-a78e-58a103411588",
   "metadata": {
    "id": "197470cd-22ec-4dd2-a78e-58a103411588"
   },
   "source": [
    "##### Checking the correlation with heatmap to check above observation"
   ]
  },
  {
   "cell_type": "code",
   "execution_count": null,
   "id": "fb1c512c-bb79-44a6-a5ee-0977c2b3e895",
   "metadata": {
    "id": "fb1c512c-bb79-44a6-a5ee-0977c2b3e895"
   },
   "outputs": [],
   "source": [
    "corr= num_variables.corr()\n",
    "plt.figure(figsize=(5,2))\n",
    "sns.heatmap(corr,annot=True);"
   ]
  },
  {
   "cell_type": "markdown",
   "id": "9300e20d-9a70-40f9-9e1c-ac99574ed6a7",
   "metadata": {
    "id": "9300e20d-9a70-40f9-9e1c-ac99574ed6a7"
   },
   "source": [
    "##### Results:\n",
    "1."
   ]
  },
  {
   "cell_type": "code",
   "execution_count": null,
   "id": "8ebb6549-4ef6-4544-b788-3d0ea33077ce",
   "metadata": {},
   "outputs": [],
   "source": []
  },
  {
   "cell_type": "markdown",
   "id": "91d34db8-cd7a-430a-9fc8-fc41768a9540",
   "metadata": {
    "id": "91d34db8-cd7a-430a-9fc8-fc41768a9540"
   },
   "source": [
    "####  2.5.3 Relationship of  'Make' with all other features\n",
    "* We can use following plots & tables :\n",
    "    * Countplot with hue\n",
    "    * crosstab\n",
    "    * df.plot.bar(stacked=True)"
   ]
  },
  {
   "cell_type": "markdown",
   "id": "77d478ab-658d-4b81-bff2-996e75036de6",
   "metadata": {
    "id": "77d478ab-658d-4b81-bff2-996e75036de6"
   },
   "source": [
    "##### 2.5.3.1 Visual analysis of \"Make\" with other categorical variables\n",
    "    "
   ]
  },
  {
   "cell_type": "code",
   "execution_count": null,
   "id": "8616d46a-d9bc-485f-91ef-3538c337d7fc",
   "metadata": {
    "id": "8616d46a-d9bc-485f-91ef-3538c337d7fc"
   },
   "outputs": [],
   "source": [
    "for i in cat_variables.columns:\n",
    "    plt.figure(figsize=(7,3))\n",
    "    sns.countplot(data=df, x=i, hue='Make');"
   ]
  },
  {
   "cell_type": "markdown",
   "id": "2240666c-9108-432c-9ea3-d375de10f4ae",
   "metadata": {
    "id": "2240666c-9108-432c-9ea3-d375de10f4ae"
   },
   "source": [
    "###### Observations;\n",
    "1."
   ]
  },
  {
   "cell_type": "code",
   "execution_count": null,
   "id": "46f50fd8-d41e-4489-9ca5-91f47d277145",
   "metadata": {},
   "outputs": [],
   "source": []
  },
  {
   "cell_type": "markdown",
   "id": "086c6af3-ae01-4ab2-8f90-db705e6e54f4",
   "metadata": {
    "id": "086c6af3-ae01-4ab2-8f90-db705e6e54f4"
   },
   "source": [
    "##### 2.5.3.2 Numerical analysis of \"Make\" with other categorical variables"
   ]
  },
  {
   "cell_type": "code",
   "execution_count": null,
   "id": "IZ2qODHiJ4DE",
   "metadata": {
    "id": "IZ2qODHiJ4DE"
   },
   "outputs": [],
   "source": [
    "for i in cat_variables:\n",
    "    print(pd.crosstab(df['Make'],df[i]))\n",
    "    print('------------------------------')"
   ]
  },
  {
   "cell_type": "markdown",
   "id": "MAEZqlFSLL3d",
   "metadata": {
    "id": "MAEZqlFSLL3d"
   },
   "source": [
    "###### Observations:"
   ]
  },
  {
   "cell_type": "code",
   "execution_count": null,
   "id": "073bb276-a6c0-4ab5-96cc-ab5dce1f9ddc",
   "metadata": {},
   "outputs": [],
   "source": []
  },
  {
   "cell_type": "markdown",
   "id": "f2df9fc0-8d39-41c5-9af2-d1773df84466",
   "metadata": {
    "id": "f2df9fc0-8d39-41c5-9af2-d1773df84466"
   },
   "source": [
    "##### 2.5.3.3 Visual analysis of \"Make\" with other numerical variables\n",
    "Use any of these plots\n",
    "* 1.Boxplot\n",
    "* 2.Scatterplot\n",
    "* 3.Barplot\n",
    "* 4.Pointplot"
   ]
  },
  {
   "cell_type": "code",
   "execution_count": null,
   "id": "d7ed6722-94cc-4f20-9716-b5f437be91ec",
   "metadata": {
    "id": "d7ed6722-94cc-4f20-9716-b5f437be91ec"
   },
   "outputs": [],
   "source": [
    "for i in num_variables.columns:\n",
    "    plt.figure(figsize=(5,2))\n",
    "    sns.barplot(data=df, x='Make', y=i,errorbar= None);"
   ]
  },
  {
   "cell_type": "markdown",
   "id": "2cqUuEF9LTsu",
   "metadata": {
    "id": "2cqUuEF9LTsu"
   },
   "source": [
    "###### Observations"
   ]
  },
  {
   "cell_type": "code",
   "execution_count": null,
   "id": "e93a4433-badc-470a-9df9-6ce7105b021a",
   "metadata": {},
   "outputs": [],
   "source": []
  },
  {
   "cell_type": "markdown",
   "id": "a02f9ddc-8d6f-4320-9f60-7ac5fe0bd177",
   "metadata": {
    "id": "a02f9ddc-8d6f-4320-9f60-7ac5fe0bd177"
   },
   "source": [
    "##### 2.5.3.4 Numerical analysis of \"Make\" with other numerical variables"
   ]
  },
  {
   "cell_type": "code",
   "execution_count": null,
   "id": "74119e6b-cbb6-4f6e-8a97-244b00f457b4",
   "metadata": {
    "id": "74119e6b-cbb6-4f6e-8a97-244b00f457b4"
   },
   "outputs": [],
   "source": [
    "for i in num_variables.columns:\n",
    "    print(i)\n",
    "    print(df.groupby('Make')[i].mean())\n",
    "    print('--------------------')"
   ]
  },
  {
   "cell_type": "markdown",
   "id": "cdc8e958-f409-46e2-8044-970ded3696f8",
   "metadata": {
    "id": "cdc8e958-f409-46e2-8044-970ded3696f8"
   },
   "source": [
    "##### Observations:\n",
    "1."
   ]
  },
  {
   "cell_type": "code",
   "execution_count": null,
   "id": "5a03bdea-98a3-4848-a4da-bbfc551bcc67",
   "metadata": {},
   "outputs": [],
   "source": []
  },
  {
   "cell_type": "markdown",
   "id": "7b90aded",
   "metadata": {
    "id": "7b90aded"
   },
   "source": [
    "# 3- Data Cleaning & pre processing\n",
    "* 0.Dropping unwanted columns\n",
    "* 1.Dropping duplicate rows\n",
    "* 2.Replacing wrong entries\n",
    "* 3.Missing values imputation (SimpleImputer, fillna())\n",
    "* 4.Handle outliers (IQR, Z-score method)\n",
    "* 5.Encoding\n",
    "* 6.Data splitting\n",
    "* 7.Feature scaling: StandardScaler, MinMaxScaler\n",
    "* 8.Feature selection:Based on correlation, domain knowledge, or model-based methods\n"
   ]
  },
  {
   "cell_type": "code",
   "execution_count": null,
   "id": "c77d8ddd-f8ec-4233-81ce-9cac2f5f9733",
   "metadata": {},
   "outputs": [],
   "source": [
    "import numpy as np\n",
    "import pandas as pd\n",
    "import seaborn as sns\n",
    "import matplotlib.pyplot as plt\n",
    "df = pd.read_csv('bright_automotive_company.csv')"
   ]
  },
  {
   "cell_type": "code",
   "execution_count": null,
   "id": "ffca7b09-d69a-495b-b01b-e625439866a8",
   "metadata": {
    "id": "ffca7b09-d69a-495b-b01b-e625439866a8"
   },
   "outputs": [],
   "source": [
    "df_copy= df.copy()\n",
    "cat_variables= df_copy.select_dtypes('object')\n",
    "num_variables= df_copy.select_dtypes(['int','float'])"
   ]
  },
  {
   "cell_type": "markdown",
   "id": "50c35bc0-dc7b-452c-8da1-6fc4b2e6f036",
   "metadata": {},
   "source": [
    "#### 3.0 Dropping Unwanted columns "
   ]
  },
  {
   "cell_type": "markdown",
   "id": "6c1e5a5f-2495-4805-a8a9-8a383df60a6f",
   "metadata": {},
   "source": [
    "* We don't have any unwanted column in our dataset"
   ]
  },
  {
   "cell_type": "markdown",
   "id": "cef18286-c61e-4ec3-bdbe-dbcaeae6a733",
   "metadata": {
    "id": "cef18286-c61e-4ec3-bdbe-dbcaeae6a733"
   },
   "source": [
    "#### 3.1 Dropping duplicates"
   ]
  },
  {
   "cell_type": "code",
   "execution_count": null,
   "id": "c9d7feff-16bc-4fca-82d2-92c94777a399",
   "metadata": {
    "id": "c9d7feff-16bc-4fca-82d2-92c94777a399"
   },
   "outputs": [],
   "source": [
    "print(\" No. of rows before dropping duplicates :\", df_copy.shape[0])\n",
    "df_copy.drop_duplicates(inplace=True)\n",
    "print(\" No. of rows after dropping duplicates :\", df_copy.shape[0])"
   ]
  },
  {
   "cell_type": "markdown",
   "id": "5fe739fe-30a6-46eb-ba44-ea0520b90ab4",
   "metadata": {
    "id": "5fe739fe-30a6-46eb-ba44-ea0520b90ab4"
   },
   "source": [
    "#### 3.2 Replacing wrong entries"
   ]
  },
  {
   "cell_type": "markdown",
   "id": "y25Cf9LOMCD-",
   "metadata": {
    "id": "y25Cf9LOMCD-"
   },
   "source": [
    "##### 3.2.1 Gender"
   ]
  },
  {
   "cell_type": "code",
   "execution_count": null,
   "id": "52a50afd-a7bc-4678-ac1a-2514f6bfd997",
   "metadata": {
    "id": "52a50afd-a7bc-4678-ac1a-2514f6bfd997"
   },
   "outputs": [],
   "source": [
    "# Before Cleaning\n",
    "print(\"Unique categories in feature : \",df_copy['Gender'].unique())\n",
    "print(\"Number of Unique categories in feature : \",df_copy['Gender'].nunique())\n",
    "print(\"Count of Unique categories in feature : \",df_copy['Gender'].value_counts())"
   ]
  },
  {
   "cell_type": "code",
   "execution_count": null,
   "id": "1c3d2b18-a861-4474-9a22-37a7f8f2bc63",
   "metadata": {
    "id": "1c3d2b18-a861-4474-9a22-37a7f8f2bc63"
   },
   "outputs": [],
   "source": [
    "# Replacing wrong entries\n",
    "df_copy['Gender']=df_copy['Gender'].replace(['Femal','Femle'],'Female')"
   ]
  },
  {
   "cell_type": "code",
   "execution_count": null,
   "id": "6b3ae636-b358-4038-9d61-67c8f173e897",
   "metadata": {
    "id": "6b3ae636-b358-4038-9d61-67c8f173e897"
   },
   "outputs": [],
   "source": [
    "# After Cleaning\n",
    "print(\"Unique categories in feature : \",df_copy['Gender'].unique())\n",
    "print(\"Number of Unique categories in feature : \",df_copy['Gender'].nunique())\n",
    "print(\"Count of Unique categories in feature : \",df_copy['Gender'].value_counts())"
   ]
  },
  {
   "cell_type": "code",
   "execution_count": null,
   "id": "8bea5023-7385-4abd-8f07-ce9346ecb8fa",
   "metadata": {
    "id": "8bea5023-7385-4abd-8f07-ce9346ecb8fa"
   },
   "outputs": [],
   "source": []
  },
  {
   "cell_type": "markdown",
   "id": "fe63fb7d-76f9-481c-a5f7-fd7affcc3bbb",
   "metadata": {
    "id": "fe63fb7d-76f9-481c-a5f7-fd7affcc3bbb"
   },
   "source": [
    "##### 3.2.2 Make"
   ]
  },
  {
   "cell_type": "code",
   "execution_count": null,
   "id": "39bf24c5-ea50-47c4-b4e3-0a316f623d10",
   "metadata": {
    "id": "39bf24c5-ea50-47c4-b4e3-0a316f623d10"
   },
   "outputs": [],
   "source": [
    "# Before Cleaning\n",
    "print(\"Unique categories in feature : \",df_copy['Make'].unique())\n",
    "print(\"Number of Unique categories in feature : \",df_copy['Make'].nunique())\n",
    "print(\"Count of Unique categories in feature : \",df_copy['Make'].value_counts())"
   ]
  },
  {
   "cell_type": "code",
   "execution_count": null,
   "id": "ca479558-642a-43e9-80b5-1293ae7d38c0",
   "metadata": {
    "id": "ca479558-642a-43e9-80b5-1293ae7d38c0"
   },
   "outputs": [],
   "source": [
    "# Fetching the records where Make is \"?\"\n",
    "df_copy[df_copy['Make']=='?']"
   ]
  },
  {
   "cell_type": "code",
   "execution_count": null,
   "id": "e5649439-d83d-41fa-9e94-164eea6b8d7b",
   "metadata": {
    "id": "e5649439-d83d-41fa-9e94-164eea6b8d7b"
   },
   "outputs": [],
   "source": [
    "df_copy['Make']=df_copy['Make'].replace('?',df_copy['Make'].mode()[0])"
   ]
  },
  {
   "cell_type": "code",
   "execution_count": null,
   "id": "87ed5d66-8f41-4aae-8886-2d764a01f9b2",
   "metadata": {
    "id": "87ed5d66-8f41-4aae-8886-2d764a01f9b2"
   },
   "outputs": [],
   "source": [
    "# After Cleaning\n",
    "print(\"Unique categories in feature : \",df_copy['Make'].unique())\n",
    "print(\"Number of Unique categories in feature : \",df_copy['Make'].nunique())\n",
    "print(\"Count of Unique categories in feature : \",df_copy['Make'].value_counts())"
   ]
  },
  {
   "cell_type": "markdown",
   "id": "21e1aedc-b28c-448f-b048-c4026432a92a",
   "metadata": {
    "id": "21e1aedc-b28c-448f-b048-c4026432a92a"
   },
   "source": [
    "###### How to replace two same wrong entries with two seperate values"
   ]
  },
  {
   "cell_type": "code",
   "execution_count": null,
   "id": "1155a708-85d6-43c4-8bd7-68b3220e2029",
   "metadata": {
    "id": "1155a708-85d6-43c4-8bd7-68b3220e2029"
   },
   "outputs": [],
   "source": [
    "df_copy['Make'].value_counts()"
   ]
  },
  {
   "cell_type": "code",
   "execution_count": null,
   "id": "19ae625f-4f7e-407e-9813-e2e772544384",
   "metadata": {
    "id": "19ae625f-4f7e-407e-9813-e2e772544384"
   },
   "outputs": [],
   "source": [
    "df_copy[df_copy['Make']=='?']"
   ]
  },
  {
   "cell_type": "code",
   "execution_count": null,
   "id": "0a72556e-79d4-40e3-b57a-953481576890",
   "metadata": {
    "id": "0a72556e-79d4-40e3-b57a-953481576890"
   },
   "outputs": [],
   "source": [
    "df_copy.iat[3,8]= 'Sedan'"
   ]
  },
  {
   "cell_type": "code",
   "execution_count": null,
   "id": "83ce4fd2-9433-4016-98b4-be01854e1e47",
   "metadata": {
    "id": "83ce4fd2-9433-4016-98b4-be01854e1e47"
   },
   "outputs": [],
   "source": [
    "df_copy.iat[14,8]='Hatchback'"
   ]
  },
  {
   "cell_type": "code",
   "execution_count": null,
   "id": "e3166f76-05a4-458e-9480-1220362dfc52",
   "metadata": {},
   "outputs": [],
   "source": []
  },
  {
   "cell_type": "markdown",
   "id": "da89ae84-0086-4ed8-8168-4090eaf855d4",
   "metadata": {
    "id": "da89ae84-0086-4ed8-8168-4090eaf855d4"
   },
   "source": [
    "##### 3.2.3 Replacing wrong entries in No_of_Dependents"
   ]
  },
  {
   "cell_type": "code",
   "execution_count": null,
   "id": "904ca8e1-a45b-4dec-9590-b9b1cf9f3ed0",
   "metadata": {
    "id": "904ca8e1-a45b-4dec-9590-b9b1cf9f3ed0"
   },
   "outputs": [],
   "source": [
    "# Before Cleaning\n",
    "print(\"Unique categories in feature : \",df_copy['No_of_Dependents'].unique())\n",
    "print(\"Number of Unique categories in feature : \",df_copy['No_of_Dependents'].nunique())\n",
    "print(\"Count of Unique categories in feature : \",df_copy['No_of_Dependents'].value_counts())"
   ]
  },
  {
   "cell_type": "code",
   "execution_count": null,
   "id": "18afd94e-2419-423c-bccd-b2d93230f369",
   "metadata": {
    "id": "18afd94e-2419-423c-bccd-b2d93230f369"
   },
   "outputs": [],
   "source": [
    "# Fetching the rows with wrong entries\n",
    "df_copy[df_copy['No_of_Dependents']=='?']"
   ]
  },
  {
   "cell_type": "code",
   "execution_count": null,
   "id": "4b427912-9f09-4d0c-bb20-e8bfdd83529b",
   "metadata": {},
   "outputs": [],
   "source": [
    "# Mean of 'No_of_Dependents'\n",
    "df_copy['No_of_Dependents'].drop(index=[3,8],axis=1).astype('int').mean()"
   ]
  },
  {
   "cell_type": "code",
   "execution_count": null,
   "id": "e0b5abd6-f5c3-4f9a-8a39-9b57dcaa5da6",
   "metadata": {
    "id": "e0b5abd6-f5c3-4f9a-8a39-9b57dcaa5da6"
   },
   "outputs": [],
   "source": [
    "# Median of 'No_of_Dependents'\n",
    "df_copy['No_of_Dependents'].drop(index=[3,8],axis=1).astype('int').median()"
   ]
  },
  {
   "cell_type": "code",
   "execution_count": null,
   "id": "fdfd649f-0b5f-423e-9963-f6537a0cdc55",
   "metadata": {
    "id": "fdfd649f-0b5f-423e-9963-f6537a0cdc55"
   },
   "outputs": [],
   "source": [
    "# Mode of 'No_of_Dependents'\n",
    "df_copy['No_of_Dependents'].drop(index=[3,8],axis=1).astype('int').mode()"
   ]
  },
  {
   "cell_type": "markdown",
   "id": "60baca8e-40b6-45f1-b3e0-aa8697ba468c",
   "metadata": {},
   "source": [
    "###### Note- We cannot replace wrong entries with mean above as the No_of_Dependents should be a whole number and it can't be a decimal value."
   ]
  },
  {
   "cell_type": "code",
   "execution_count": null,
   "id": "0eb105e3-1fb0-4df1-a323-4ff23e00f226",
   "metadata": {
    "id": "0eb105e3-1fb0-4df1-a323-4ff23e00f226"
   },
   "outputs": [],
   "source": [
    "# Replacing with mode\n",
    "df_copy['No_of_Dependents']=df_copy['No_of_Dependents'].replace('?','3')\n",
    "df_copy['No_of_Dependents']=df_copy['No_of_Dependents'].astype('int')"
   ]
  },
  {
   "cell_type": "code",
   "execution_count": null,
   "id": "793055e7-6dc1-422d-9c45-3e5571d50dda",
   "metadata": {
    "id": "793055e7-6dc1-422d-9c45-3e5571d50dda"
   },
   "outputs": [],
   "source": [
    "# After cleaning\n",
    "df_copy['No_of_Dependents'].value_counts()"
   ]
  },
  {
   "cell_type": "code",
   "execution_count": null,
   "id": "3989442b-0071-4df2-9fb7-369f11650dba",
   "metadata": {},
   "outputs": [],
   "source": []
  },
  {
   "cell_type": "markdown",
   "id": "065be1cc-1547-4700-a1fa-8452fc0f875d",
   "metadata": {
    "id": "065be1cc-1547-4700-a1fa-8452fc0f875d"
   },
   "source": [
    "#### 3.3 Missing values Treatment"
   ]
  },
  {
   "cell_type": "markdown",
   "id": "04fee582-0c22-468f-a087-efa79c0a6557",
   "metadata": {
    "id": "04fee582-0c22-468f-a087-efa79c0a6557"
   },
   "source": [
    "| Acronym  | Full Form                    | Meaning                                                                        | Bias Introduced | Example                                                                        |\n",
    "| -------- | ---------------------------- | ------------------------------------------------------------------------------ | --------------- | ------------------------------------------------------------------------------ |\n",
    "| **MCAR** | Missing Completely At Random | The missingness has **no relation** to any data, observed or missing.          | ❌ No            | A sensor randomly fails and misses temperature readings.                       |\n",
    "| **MAR**  | Missing At Random            | The missingness is **related to observed data**, not the missing value itself. | ✅ Yes (mild)    | People with higher incomes are less likely to report income, but age is known. |\n",
    "| **MNAR** | Missing Not At Random        | The missingness is related to the **missing value itself**.                    | ✅ High          | People with very low income tend to skip the income question.                  |\n"
   ]
  },
  {
   "cell_type": "code",
   "execution_count": null,
   "id": "7607a9cf-ee9b-44e8-b92e-98e3b8baad99",
   "metadata": {
    "id": "7607a9cf-ee9b-44e8-b92e-98e3b8baad99"
   },
   "outputs": [],
   "source": []
  },
  {
   "cell_type": "markdown",
   "id": "4b90e896-7db7-4a89-8792-93f39a1842d5",
   "metadata": {
    "id": "4b90e896-7db7-4a89-8792-93f39a1842d5"
   },
   "source": [
    "##### Example\n",
    "| Name  | Age | Income |\n",
    "| ----- | --- | ------ |\n",
    "| Alice | 25  | 50k    |\n",
    "| Bob   | 30  | NaN    |\n",
    "| Carol | NaN | 70k    |\n",
    "| David | 40  | NaN    |\n"
   ]
  },
  {
   "cell_type": "markdown",
   "id": "717af4fd-535a-4510-8592-c0aac1538194",
   "metadata": {
    "id": "717af4fd-535a-4510-8592-c0aac1538194"
   },
   "source": [
    "* MCAR: Missing income for Bob and David is due to random system error.\n",
    "* MAR: Missing income depends on age (older people don't report income), but income itself doesn't influence missingness.\n",
    "* MNAR: Income is missing because it's very high or very low, and people choose not to report it."
   ]
  },
  {
   "cell_type": "markdown",
   "id": "5a75d2f0-9b1e-4295-8387-9743d202a4b9",
   "metadata": {
    "id": "5a75d2f0-9b1e-4295-8387-9743d202a4b9"
   },
   "source": [
    "| Type | Can You Impute?                           | Need Advanced Methods?                         |\n",
    "| ---- | ----------------------------------------- | ---------------------------------------------- |\n",
    "| MCAR | ✅ Yes (Mean/Median Imputation)            | ❌ No                                           |\n",
    "| MAR  | ✅ Yes (Advanced Imputers: KNN, Iterative) | ⚠️ Maybe                                       |\n",
    "| MNAR | ❌ Not reliably                            | ✅ Yes (Model-based or domain knowledge needed) |\n"
   ]
  },
  {
   "cell_type": "markdown",
   "id": "b56d969d-afde-48f4-89aa-6cadaa584dbd",
   "metadata": {},
   "source": [
    "# Null values Treatment general guideline:\n",
    "* Check the datatype of feature:\n",
    "  * If datatype== Categorical ; replace null values with mode\n",
    "  * If datatype== Numerical:\n",
    "    * Check for outliers:\n",
    "      * If outliers are present; replace null values with median\n",
    "      * If outliers are NOT present; replace null values with mean"
   ]
  },
  {
   "cell_type": "code",
   "execution_count": null,
   "id": "c791b9d0-1567-4b6d-a863-3a2bdbdc426b",
   "metadata": {
    "id": "c791b9d0-1567-4b6d-a863-3a2bdbdc426b"
   },
   "outputs": [],
   "source": [
    "df.isnull().sum()"
   ]
  },
  {
   "cell_type": "code",
   "execution_count": null,
   "id": "53d0acac-96df-4bec-b5a7-1d3f12e2a34e",
   "metadata": {
    "id": "53d0acac-96df-4bec-b5a7-1d3f12e2a34e"
   },
   "outputs": [],
   "source": [
    "# Filling null values using fillna- Gender, Salary"
   ]
  },
  {
   "cell_type": "code",
   "execution_count": null,
   "id": "ba5f24a8-c651-4f5a-90d7-584f5ab30456",
   "metadata": {
    "id": "ba5f24a8-c651-4f5a-90d7-584f5ab30456"
   },
   "outputs": [],
   "source": [
    "df_copy['Gender'].mode()[0]"
   ]
  },
  {
   "cell_type": "code",
   "execution_count": null,
   "id": "42e28fe5-4cc3-478d-ada7-8774076afbf0",
   "metadata": {
    "id": "42e28fe5-4cc3-478d-ada7-8774076afbf0"
   },
   "outputs": [],
   "source": [
    "df_copy['Gender'] = df_copy['Gender'].fillna(df_copy['Gender'].mode()[0])"
   ]
  },
  {
   "cell_type": "code",
   "execution_count": null,
   "id": "c82b7deb-9513-4378-a6b8-1fc466126acd",
   "metadata": {},
   "outputs": [],
   "source": [
    "df_copy.isnull().sum()"
   ]
  },
  {
   "cell_type": "code",
   "execution_count": null,
   "id": "b79346f7-fc40-40fc-8bd8-78f54ea10339",
   "metadata": {
    "id": "b79346f7-fc40-40fc-8bd8-78f54ea10339"
   },
   "outputs": [],
   "source": [
    "sns.boxplot(data=df_copy, x='Salary');"
   ]
  },
  {
   "cell_type": "code",
   "execution_count": null,
   "id": "044fdb94-2e16-4c89-923a-f808f18b918c",
   "metadata": {
    "id": "044fdb94-2e16-4c89-923a-f808f18b918c"
   },
   "outputs": [],
   "source": [
    "df_copy['Salary'] = df_copy['Salary'].fillna(df_copy['Salary'].mean())"
   ]
  },
  {
   "cell_type": "code",
   "execution_count": null,
   "id": "b13a82aa-ebee-43fa-9b0f-26b800274f1c",
   "metadata": {
    "id": "b13a82aa-ebee-43fa-9b0f-26b800274f1c"
   },
   "outputs": [],
   "source": [
    "df_copy.isnull().sum()"
   ]
  },
  {
   "cell_type": "code",
   "execution_count": null,
   "id": "82372c52-e240-441b-8457-867fcb8bc1a6",
   "metadata": {
    "id": "82372c52-e240-441b-8457-867fcb8bc1a6"
   },
   "outputs": [],
   "source": [
    "# Filling null values using simple imputer- Profession,Partner_salary"
   ]
  },
  {
   "cell_type": "code",
   "execution_count": null,
   "id": "ed2eca22-d608-43b7-ba45-03c3c1af7f75",
   "metadata": {
    "id": "ed2eca22-d608-43b7-ba45-03c3c1af7f75"
   },
   "outputs": [],
   "source": [
    "from sklearn.impute import SimpleImputer\n",
    "# Imputer with mode strategy\n",
    "imputer = SimpleImputer(strategy='most_frequent')\n",
    "df_copy[['Profession']] = imputer.fit_transform(df_copy[['Profession']])"
   ]
  },
  {
   "cell_type": "code",
   "execution_count": null,
   "id": "2ba3958e-9567-4985-b9c8-36332c728a1d",
   "metadata": {},
   "outputs": [],
   "source": [
    "df_copy.isnull().sum()"
   ]
  },
  {
   "cell_type": "code",
   "execution_count": null,
   "id": "c3865fd2-cabf-4c7c-8166-68b4845a6120",
   "metadata": {
    "id": "c3865fd2-cabf-4c7c-8166-68b4845a6120"
   },
   "outputs": [],
   "source": [
    "sns.boxplot(data=df, x='Partner_salary');"
   ]
  },
  {
   "cell_type": "code",
   "execution_count": null,
   "id": "933534ad-914b-4e4e-a20e-cd15a7cd2daf",
   "metadata": {
    "id": "933534ad-914b-4e4e-a20e-cd15a7cd2daf"
   },
   "outputs": [],
   "source": [
    "# Imputer with median strategy\n",
    "imputer = SimpleImputer(strategy='mean')\n",
    "df_copy[['Partner_salary']] = imputer.fit_transform(df_copy[['Partner_salary']])"
   ]
  },
  {
   "cell_type": "code",
   "execution_count": null,
   "id": "bc0fc58b-b076-4639-b63f-e50d526b919b",
   "metadata": {
    "id": "bc0fc58b-b076-4639-b63f-e50d526b919b"
   },
   "outputs": [],
   "source": [
    "df_copy.isnull().sum()"
   ]
  },
  {
   "cell_type": "code",
   "execution_count": null,
   "id": "54f78e06-2cd5-4add-a335-436c39f7ae0b",
   "metadata": {},
   "outputs": [],
   "source": [
    "df_copy.to_csv('df_copy1.csv', index=False)"
   ]
  },
  {
   "cell_type": "markdown",
   "id": "01d33b6f-119a-42a5-b396-0a4347938326",
   "metadata": {
    "id": "01d33b6f-119a-42a5-b396-0a4347938326"
   },
   "source": [
    "##### Other popular methods\n",
    "\n",
    "| Method                                 | Description                                              |\n",
    "| -------------------------------------- | -------------------------------------------------------- |\n",
    "| `ffill()` / `bfill()`                  | Forward or backward fill values                          |\n",
    "| Mode/Median Imputation                 | Use most frequent / median value                         |\n",
    "| KNN Imputer (`KNNImputer`)             | Predict null values using nearest neighbors              |\n",
    "| Iterative Imputer (`IterativeImputer`) | Uses regression models to predict missing values         |\n",
    "| Drop missing (`dropna`)                | Drop rows/columns with missing values (when appropriate) |\n",
    "| Domain-specific value                  | E.g., fill age with 0 only if 0 means \"unknown\"          |\n"
   ]
  },
  {
   "cell_type": "markdown",
   "id": "72daa0bc-688c-4b72-95c5-71a1f496e37a",
   "metadata": {
    "id": "72daa0bc-688c-4b72-95c5-71a1f496e37a"
   },
   "source": [
    "## 3.4 Outliers Treatment"
   ]
  },
  {
   "cell_type": "markdown",
   "id": "d74e2dc0-1320-4d82-9193-9df3dce2f8b7",
   "metadata": {
    "id": "d74e2dc0-1320-4d82-9193-9df3dce2f8b7"
   },
   "source": [
    "#### 1. Popular Methods for Outlier Detection & Treatment"
   ]
  },
  {
   "cell_type": "markdown",
   "id": "2183b554-ffb4-4e4b-9528-93df5c1b1a1c",
   "metadata": {
    "id": "2183b554-ffb4-4e4b-9528-93df5c1b1a1c"
   },
   "source": [
    "| Method                           | Type         | Handles   | Robustness  | When to Use                   |\n",
    "| -------------------------------- | ------------ | --------- | ----------- | ----------------------------- |\n",
    "| **IQR (Interquartile Range)**    | Univariate   | Numerical | ✅ Robust    | Simple, small-medium datasets |\n",
    "| **Z-Score**                      | Univariate   | Numerical | ❌ Sensitive | Normal-like distributions     |\n",
    "| **Percentile Capping**           | Univariate   | Numerical | ✅ Robust    | Quick wins, business rules    |\n",
    "| **Isolation Forest**             | Multivariate | Numerical | ✅ Good      | Large, high-dimensional data  |\n",
    "| **DBSCAN (Clustering)**          | Multivariate | All       | ✅ Moderate  | Cluster-shaped datasets       |\n",
    "| **Boxplots / Visual Inspection** | Univariate   | Numerical | Manual      | For EDA or small data         |\n",
    "| **LOF (Local Outlier Factor)**   | Multivariate | All       | ✅ High      | Density-based outliers        |\n"
   ]
  },
  {
   "cell_type": "code",
   "execution_count": null,
   "id": "b96717bb-58f2-474c-ba3c-1c83f7ddaa0f",
   "metadata": {},
   "outputs": [],
   "source": [
    "\n",
    "df_copy2= pd.read_csv('df_copy1.csv')"
   ]
  },
  {
   "cell_type": "code",
   "execution_count": null,
   "id": "47e35267-cc32-4561-b7c3-9323f4a8aed7",
   "metadata": {},
   "outputs": [],
   "source": []
  },
  {
   "cell_type": "code",
   "execution_count": null,
   "id": "823c9ec8-9f78-4324-8353-84ea553a0f75",
   "metadata": {},
   "outputs": [],
   "source": [
    "for i in df_copy2.select_dtypes(['int','float']).columns:\n",
    "    plt.figure(figsize=(5,2))\n",
    "    sns.boxplot(data=df_copy2,x=i);"
   ]
  },
  {
   "cell_type": "code",
   "execution_count": null,
   "id": "e6255822-90bb-4952-823d-cc4c8d75f180",
   "metadata": {
    "id": "e6255822-90bb-4952-823d-cc4c8d75f180"
   },
   "outputs": [],
   "source": [
    "# A.IQR Method (Interquartile Range)\n",
    "Q1 = df_copy2['Age'].quantile(0.25)\n",
    "Q3 = df_copy2['Age'].quantile(0.75)\n",
    "IQR = Q3 - Q1\n",
    "# Define bounds\n",
    "lower = Q1 - 1.5 * IQR\n",
    "upper = Q3 + 1.5 * IQR\n",
    "lower,upper"
   ]
  },
  {
   "cell_type": "code",
   "execution_count": null,
   "id": "64d1b5c4-2a3f-47e3-8e05-86fb279540f5",
   "metadata": {},
   "outputs": [],
   "source": [
    "# Filter out outliers\n",
    "df_copy2[(df_copy2['Age'] <= lower) | (df_copy2['Age'] >= upper)]"
   ]
  },
  {
   "cell_type": "code",
   "execution_count": null,
   "id": "e694b4d3-1372-49a2-a15f-0111ef9958d4",
   "metadata": {},
   "outputs": [],
   "source": [
    "df_copy2['Age'].quantile(0.99)"
   ]
  },
  {
   "cell_type": "code",
   "execution_count": null,
   "id": "2776008d-2959-4d90-a766-63b57f1eb659",
   "metadata": {},
   "outputs": [],
   "source": [
    "df_copy2['Age'].describe()"
   ]
  },
  {
   "cell_type": "code",
   "execution_count": null,
   "id": "59fbda32-aaa4-4973-9a6c-bfc30cdf79be",
   "metadata": {},
   "outputs": [],
   "source": [
    "sns.histplot(data=df_copy2, x='Age',binwidth=5)\n",
    "plt.xticks(np.arange(14,120,5));"
   ]
  },
  {
   "cell_type": "code",
   "execution_count": null,
   "id": "7d6d7a17-a063-4446-bfa2-3a11ad736057",
   "metadata": {},
   "outputs": [],
   "source": [
    "df_copy2['Age'] =np.where(df_copy2['Age']<= lower,df_copy2['Age'].median(),df_copy2['Age'])\n",
    "df_copy2['Age'] =np.where(df_copy2['Age']>= upper,df_copy2['Age'].median(),df_copy2['Age'])"
   ]
  },
  {
   "cell_type": "code",
   "execution_count": null,
   "id": "87070869-32bb-4004-a3f4-ab1132b1685f",
   "metadata": {},
   "outputs": [],
   "source": [
    " df_copy2[(df_copy2['Age'] <= lower) | (df_copy2['Age'] >= upper)]"
   ]
  },
  {
   "cell_type": "markdown",
   "id": "415f2743-e039-494a-a7d1-19ddec25825c",
   "metadata": {},
   "source": [
    "##### Note - We lately found a datapoint where age is 14 and this is not getting detected during outliers treatment. So we need to treat 'Age\" manually here."
   ]
  },
  {
   "cell_type": "code",
   "execution_count": null,
   "id": "474125d8-4d0d-4545-b6f8-5e4b50d8a8c8",
   "metadata": {},
   "outputs": [],
   "source": [
    "df_copy2['Age'] =np.where(df_copy2['Age'] ==14,29,df_copy2['Age'])"
   ]
  },
  {
   "cell_type": "code",
   "execution_count": null,
   "id": "49368eab-73bc-4bee-8477-15c80ef8fbc9",
   "metadata": {
    "id": "49368eab-73bc-4bee-8477-15c80ef8fbc9"
   },
   "outputs": [],
   "source": [
    "# B. Z-Score Method \n",
    "from scipy.stats import zscore\n",
    "df_copy2['zscore'] = zscore(df_copy2['Price'])\n",
    "df_copy2[df_copy2['zscore'].abs() > 3]"
   ]
  },
  {
   "cell_type": "code",
   "execution_count": null,
   "id": "be0dbf63-7cad-487f-9fca-e04afe7f0c68",
   "metadata": {},
   "outputs": [],
   "source": [
    "df_copy2['Price'].describe()"
   ]
  },
  {
   "cell_type": "code",
   "execution_count": null,
   "id": "4cdd3021-d6e8-41b8-9a1c-889d33b2bffb",
   "metadata": {},
   "outputs": [],
   "source": [
    "df_copy2['Price'].quantile(0.99)"
   ]
  },
  {
   "cell_type": "code",
   "execution_count": null,
   "id": "b8ed5837-00e1-4032-bb17-4258c934d2a1",
   "metadata": {},
   "outputs": [],
   "source": [
    "sns.histplot(data=df_copy2, x='Price')\n",
    "#plt.xticks(np.arange(58,680000,1000));"
   ]
  },
  {
   "cell_type": "code",
   "execution_count": null,
   "id": "537f8ef0-1e87-4ba9-bbc5-8780f48217c3",
   "metadata": {},
   "outputs": [],
   "source": [
    "df_copy2['Price'] =np.where(df_copy2['zscore'].abs()>3,df_copy2['Price'].median(),df_copy2['Price'])"
   ]
  },
  {
   "cell_type": "code",
   "execution_count": null,
   "id": "7e8d13b0-2099-4f91-8e63-bb5b1eff1754",
   "metadata": {},
   "outputs": [],
   "source": [
    "sns.boxplot(data=df_copy2, x='Price');"
   ]
  },
  {
   "cell_type": "code",
   "execution_count": null,
   "id": "36f8c885-57bd-4e66-9d6a-547e4e4e9414",
   "metadata": {},
   "outputs": [],
   "source": [
    "#Note- There is a value in price ==58 whcih is not detected \n",
    "#during outliers treatment so we will replace this with median\n",
    "df_copy2['Price'] =np.where(df_copy2['Price']==58,df_copy2['Price'].median(),df_copy2['Price'])"
   ]
  },
  {
   "cell_type": "code",
   "execution_count": null,
   "id": "8b77834b-db70-41f7-b426-f26f6eca11c6",
   "metadata": {},
   "outputs": [],
   "source": [
    "# Treating outliers in Total_salary\n",
    "Q1 = df_copy2['Total_salary'].quantile(0.25)\n",
    "Q3 = df_copy2['Total_salary'].quantile(0.75)\n",
    "IQR = Q3 - Q1\n",
    "\n",
    "# Define bounds\n",
    "lower = Q1 - 1.5 * IQR\n",
    "upper = Q3 + 1.5 * IQR\n",
    "lower,upper"
   ]
  },
  {
   "cell_type": "code",
   "execution_count": null,
   "id": "413ee831-43d0-47c6-838d-9635bae0f937",
   "metadata": {},
   "outputs": [],
   "source": [
    "df_copy2[(df_copy2['Total_salary'] <= lower) | (df_copy2['Total_salary'] >= upper)]"
   ]
  },
  {
   "cell_type": "code",
   "execution_count": null,
   "id": "1d160f7d-d786-4fa7-912b-93ff5d2f83a7",
   "metadata": {},
   "outputs": [],
   "source": [
    "sns.boxplot(data=df_copy2, x='Total_salary');"
   ]
  },
  {
   "cell_type": "code",
   "execution_count": null,
   "id": "b586ab3b-35c0-443e-94b0-73e053414f4c",
   "metadata": {},
   "outputs": [],
   "source": [
    "df_copy2['Total_salary'] =np.where(df_copy2['Total_salary'] <= lower,lower,df_copy2['Total_salary'])\n",
    "df_copy2['Total_salary'] =np.where(df_copy2['Total_salary'] >= upper,upper,df_copy2['Total_salary'])"
   ]
  },
  {
   "cell_type": "code",
   "execution_count": null,
   "id": "6e76bfe3-3adf-4d41-977c-63b47a702164",
   "metadata": {},
   "outputs": [],
   "source": []
  },
  {
   "cell_type": "code",
   "execution_count": null,
   "id": "9327dccd-217f-4bf5-8241-c92c006d41b7",
   "metadata": {},
   "outputs": [],
   "source": [
    "sns.boxplot(data=df_copy2, x='Total_salary');"
   ]
  },
  {
   "cell_type": "code",
   "execution_count": null,
   "id": "684d6822-5cdb-4e39-83bc-79931853c084",
   "metadata": {},
   "outputs": [],
   "source": []
  },
  {
   "cell_type": "code",
   "execution_count": null,
   "id": "530d6be9-632e-41b1-b617-b322daf699dd",
   "metadata": {},
   "outputs": [],
   "source": [
    "df_copy2.drop('zscore',axis=1, inplace=True)\n",
    "df_copy2.to_csv('df_copy3.csv', index=False)"
   ]
  },
  {
   "cell_type": "markdown",
   "id": "151d915e-f2d6-4d5c-93e2-27569f175721",
   "metadata": {
    "id": "f087cbbb-036a-4459-a6d0-8499a2106008"
   },
   "source": [
    "\n",
    "#### C.Percentile Capping (Winsorization)\n",
    "from scipy.stats.mstats import winsorize\n",
    "\n",
    "Winsorize at 5th and 95th percentile\n",
    "\n",
    "df['capped_age'] = winsorize(df['Age'], limits=[0.05, 0.05])\n",
    "\n",
    "#### D. Isolation Forest (Multivariate)\n",
    "from sklearn.ensemble import IsolationForest\n",
    "\n",
    "clf = IsolationForest(contamination=0.1)\n",
    "\n",
    "df['outlier'] = clf.fit_predict(df[['Age']])\n",
    "\n",
    "df_filtered = df[df['outlier'] == 1]\n",
    "\n",
    "print(df_filtered)\n",
    "\n",
    "#### E.Local Outlier Factor (LOF)\n",
    "from sklearn.neighbors import LocalOutlierFactor\n",
    "\n",
    "lof = LocalOutlierFactor(n_neighbors=20)\n",
    "\n",
    "df['outlier'] = lof.fit_predict(df[['Age']])\n",
    "\n",
    "df_filtered = df[df['outlier'] == 1]\n",
    "\n",
    "print(df_filtered)"
   ]
  },
  {
   "cell_type": "code",
   "execution_count": null,
   "id": "95b4c154-f86f-49ff-931e-abbe33960757",
   "metadata": {
    "id": "95b4c154-f86f-49ff-931e-abbe33960757"
   },
   "outputs": [],
   "source": [
    "\n"
   ]
  },
  {
   "cell_type": "markdown",
   "id": "0b807742-6fbc-4419-992d-01b796e4c77c",
   "metadata": {
    "id": "0b807742-6fbc-4419-992d-01b796e4c77c"
   },
   "source": [
    "##### Comparison Summary\n",
    "| Method           | Speed     | Interpretability | Works on Multivariate | Scikit-learn Support |\n",
    "| ---------------- | --------- | ---------------- | --------------------- | -------------------- |\n",
    "| IQR              | ✅ Fast    | ✅ Easy           | ❌ No                  | ❌ No                 |\n",
    "| Z-Score          | ✅ Fast    | ✅ Easy           | ❌ No                  | ❌ No                 |\n",
    "| Winsorization    | ✅ Fast    | ✅ Easy           | ❌ No                  | ❌ No (in `scipy`)    |\n",
    "| Isolation Forest | ⚠️ Slower | ✅ Moderate       | ✅ Yes                 | ✅ Yes                |\n",
    "| LOF              | ⚠️ Slower | ⚠️ Hard          | ✅ Yes                 | ✅ Yes                |\n"
   ]
  },
  {
   "cell_type": "markdown",
   "id": "7b1f2a10-dcfb-48d8-a8d2-5d479a026e7e",
   "metadata": {},
   "source": [
    "## 3.5 Encoding \n",
    "\n",
    "Encoding is the process of converting categorical variables (text labels or categories) into a numerical format, so they can be used in machine learning models (which require numerical input).\n",
    "\n",
    "Types of Categorical Variables\n",
    "* Nominal – No natural order. E.g., Gender, Color, Country\n",
    "* Ordinal – Has a meaningful order. E.g., Size (Small < Medium < Large), Rating (Low < Medium < High)"
   ]
  },
  {
   "cell_type": "code",
   "execution_count": null,
   "id": "19f31e78-03b8-4d24-b8f5-7b5bf2e27176",
   "metadata": {},
   "outputs": [],
   "source": [
    "df_3= pd.read_csv('df_copy3.csv')"
   ]
  },
  {
   "cell_type": "code",
   "execution_count": null,
   "id": "77c477c5-925e-48aa-b090-4eb84737ed9f",
   "metadata": {},
   "outputs": [],
   "source": [
    "df_3.head(3)"
   ]
  },
  {
   "cell_type": "code",
   "execution_count": null,
   "id": "49f637d7-d7a6-42a9-befa-0222e15eb67f",
   "metadata": {},
   "outputs": [],
   "source": [
    "cat_variables= df_3.select_dtypes('object')\n",
    "num_variables= df_3.select_dtypes(['int','float'])\n"
   ]
  },
  {
   "cell_type": "code",
   "execution_count": null,
   "id": "4c6d89ac-39c2-4313-9259-40183ccf2333",
   "metadata": {},
   "outputs": [],
   "source": [
    "cat_variables.columns"
   ]
  },
  {
   "cell_type": "code",
   "execution_count": null,
   "id": "8dd2a203-ad1e-4bcf-bc7a-872b95c2cc48",
   "metadata": {},
   "outputs": [],
   "source": [
    "cat_variables.head(3)"
   ]
  },
  {
   "cell_type": "markdown",
   "id": "72ef9213-d88a-4798-b4da-888aac43a42a",
   "metadata": {},
   "source": [
    "#### Note\n",
    "* Nominal features with low cardinality ===>> Gender, Profession, Marital_status,Personal_loan,House_loan,Partner_working,Make\n",
    "* Nominal features with high cardinality ===>> No feature\n",
    "* Ordinal features ===>> Education"
   ]
  },
  {
   "cell_type": "code",
   "execution_count": null,
   "id": "6c500806-2d86-4d80-9e5a-b415b75cc7df",
   "metadata": {},
   "outputs": [],
   "source": [
    "pd.Categorical(cat_variables['Education'],ordered= True,categories=['Graduate','Post Graduate'])"
   ]
  },
  {
   "cell_type": "code",
   "execution_count": null,
   "id": "17d796da-4890-472f-9a74-bfb025756213",
   "metadata": {},
   "outputs": [],
   "source": [
    "pd.Categorical(cat_variables['Education'],ordered= True).codes"
   ]
  },
  {
   "cell_type": "code",
   "execution_count": null,
   "id": "01936960-9b6d-4a9d-a071-d9f55fac7556",
   "metadata": {},
   "outputs": [],
   "source": [
    "# 1. Ordinal encoding\n",
    "print(pd.Categorical(cat_variables['Education'],ordered= True, categories=['Graduate','Post Graduate']))\n",
    "print(pd.Categorical(cat_variables['Education'],ordered= True, categories=['Graduate','Post Graduate']).codes)\n",
    "cat_variables['Education']=pd.Categorical(cat_variables['Education'],ordered= True, categories=['Graduate','Post Graduate']).codes"
   ]
  },
  {
   "cell_type": "code",
   "execution_count": null,
   "id": "130f5b04-2362-438c-b638-e228e67c454b",
   "metadata": {},
   "outputs": [],
   "source": [
    "cat_variables['Education'].value_counts()"
   ]
  },
  {
   "cell_type": "code",
   "execution_count": null,
   "id": "c50b8caa-bd08-4d1b-864f-f4c097f3ac5c",
   "metadata": {},
   "outputs": [],
   "source": [
    "cat_variables.head()"
   ]
  },
  {
   "cell_type": "code",
   "execution_count": null,
   "id": "ed77972f-69f1-4a52-9e98-91fe93ed1057",
   "metadata": {},
   "outputs": [],
   "source": [
    "pd.Categorical(cat_variables[\"Marital_status\"],ordered= False).codes"
   ]
  },
  {
   "cell_type": "code",
   "execution_count": null,
   "id": "3c781393-4917-40c2-89db-9fe2dd4b4ef2",
   "metadata": {},
   "outputs": [],
   "source": []
  },
  {
   "cell_type": "code",
   "execution_count": null,
   "id": "49f9d380-e9a2-44cf-8f6e-597aa30b1f8f",
   "metadata": {},
   "outputs": [],
   "source": [
    "# 2. Nominal encoding\n",
    "nominal_features=['Marital_status','Personal_loan','House_loan','Partner_working','Make']\n",
    "for i in nominal_features:\n",
    "    print(i,\";\")\n",
    "    print(pd.Categorical(cat_variables[i],ordered= False))\n",
    "    print(pd.Categorical(cat_variables[i],ordered= False).codes)\n",
    "    print('----------------------------------------')\n",
    "    cat_variables[i]=pd.Categorical(cat_variables[i],ordered= False).codes"
   ]
  },
  {
   "cell_type": "code",
   "execution_count": null,
   "id": "ded5ed15-5421-4ee0-a80c-6c84a3ff8acd",
   "metadata": {},
   "outputs": [],
   "source": [
    "cat_variables[\"Make\"].value_counts()"
   ]
  },
  {
   "cell_type": "code",
   "execution_count": null,
   "id": "04e8720d-66f2-467e-8a62-810ef4703f3c",
   "metadata": {},
   "outputs": [],
   "source": [
    "df_3[\"Make\"].value_counts()"
   ]
  },
  {
   "cell_type": "code",
   "execution_count": null,
   "id": "dcffa2de-d729-4b15-a3c6-125f9ebd62ba",
   "metadata": {},
   "outputs": [],
   "source": []
  },
  {
   "cell_type": "code",
   "execution_count": null,
   "id": "c3a2235e-7e65-45fe-872e-a81d15172cba",
   "metadata": {},
   "outputs": [],
   "source": [
    "pd.get_dummies(cat_variables[['Gender']],dtype='int')"
   ]
  },
  {
   "cell_type": "code",
   "execution_count": null,
   "id": "ebe7a1a9-08d0-4aed-bce4-07c32adcc350",
   "metadata": {},
   "outputs": [],
   "source": [
    "# 3. One Hot encoding\n",
    "pd.get_dummies(cat_variables[['Gender','Profession']],dtype='int')"
   ]
  },
  {
   "cell_type": "code",
   "execution_count": null,
   "id": "e49bb2b2-7ee9-422b-a00c-391733e65569",
   "metadata": {},
   "outputs": [],
   "source": [
    "for i in ['Gender','Profession']:\n",
    "    print(pd.get_dummies(cat_variables[i],dtype='int'))"
   ]
  },
  {
   "cell_type": "code",
   "execution_count": null,
   "id": "2d110590-95fc-4fe2-9a91-b1049ab9d363",
   "metadata": {},
   "outputs": [],
   "source": [
    "cat_variables.head(2)"
   ]
  },
  {
   "cell_type": "code",
   "execution_count": null,
   "id": "677ca8ca-8591-43cf-9771-332b4aa8c7e4",
   "metadata": {},
   "outputs": [],
   "source": [
    "cat_variables_encoded= pd.get_dummies(cat_variables, columns=['Gender','Profession'], dtype=int)"
   ]
  },
  {
   "cell_type": "code",
   "execution_count": null,
   "id": "1d6f9657-c469-49ba-bd6d-f50ebe261622",
   "metadata": {},
   "outputs": [],
   "source": [
    "cat_variables_encoded.head()"
   ]
  },
  {
   "cell_type": "code",
   "execution_count": null,
   "id": "4fb62beb-fd39-441a-9646-64e69f3641d4",
   "metadata": {},
   "outputs": [],
   "source": [
    "df_encoded=pd.concat([num_variables,cat_variables_encoded], axis=1,)\n",
    "df_encoded.head()"
   ]
  },
  {
   "cell_type": "code",
   "execution_count": null,
   "id": "7e1d080d-ed10-4a48-af8e-1f363b19e723",
   "metadata": {},
   "outputs": [],
   "source": [
    "df_encoded.to_csv('df_encoded', index=False)"
   ]
  },
  {
   "cell_type": "markdown",
   "id": "78a42d19-23e1-4823-99ce-132d2fbb752f",
   "metadata": {},
   "source": [
    "##### Common encoding techniques:\n",
    "| Encoding Method      | Type of Data | Pros                  | Cons                             |\n",
    "| -------------------- | ------------ | --------------------- | -------------------------------- |\n",
    "| Label Encoding       | Ordinal      | Simple                | Imposes order on nominal data    |\n",
    "| One-Hot Encoding     | Nominal      | No order imposed      | High dimensionality              |\n",
    "| Ordinal Encoding     | Ordinal      | Preserves order       | You must define the order        |\n",
    "| Frequency Encoding   | Nominal      | Simple, compact       | May mislead the model            |\n",
    "| Target/Mean Encoding | Nominal      | Can boost performance | Risk of overfitting/data leakage |\n"
   ]
  },
  {
   "cell_type": "code",
   "execution_count": null,
   "id": "56598f63-d7c9-4f8a-99dc-73755b0d1806",
   "metadata": {},
   "outputs": [],
   "source": []
  },
  {
   "cell_type": "markdown",
   "id": "9220fd95-26ae-4d1b-b072-19d18c5c890a",
   "metadata": {},
   "source": [
    "#### Difference in `pd.Categorical` technique and Sklearn's `LabelEncoder` / `OrdinalEncoder`\n",
    "| Feature                    | `pd.Categorical`      | `LabelEncoder` / `OrdinalEncoder` |\n",
    "| -------------------------- | --------------------- | --------------------------------- |\n",
    "| Built into Pandas          | ✅ Yes                 | ❌ No                              |\n",
    "| Easy for quick exploration | ✅ Very                | ➖ Slightly more verbose           |\n",
    "| Custom category ordering   | ✅ Yes                 | ✅ Yes                             |\n",
    "| Part of sklearn pipelines  | ❌ Not natively        | ✅ Integrates well                 |\n",
    "| Handles unknown values     | ❌ Fails or assigns -1 | ✅ Can handle with parameters      |\n"
   ]
  },
  {
   "cell_type": "markdown",
   "id": "7c174440-c48d-4492-b2e8-852308c08405",
   "metadata": {},
   "source": [
    "## 3.6 Train Test Split (Required when building model for predictions)\n",
    "#### What is train_test_split?\n",
    "train_test_split is a function from scikit-learn used to split your dataset into two parts:\n",
    "\n",
    "Training set – to train the model\n",
    "\n",
    "Validation set – to evaluate the model's performance\n",
    "\n",
    "#### Why is it required?\n",
    "When building machine learning models, we train the model on one portion of the data and test it on unseen data to check how well it generalizes.\n",
    "\n",
    "This prevents overfitting and gives a fair estimate of model accuracy."
   ]
  },
  {
   "cell_type": "code",
   "execution_count": null,
   "id": "0c4857eb-3ff9-4f79-9dcb-62aba49b8cdb",
   "metadata": {},
   "outputs": [],
   "source": [
    "df_TrainTestSplit= pd.read_csv('df_encoded')"
   ]
  },
  {
   "cell_type": "code",
   "execution_count": null,
   "id": "0a6e00e4-1489-4b4f-b2bc-3a5cfe5863f2",
   "metadata": {},
   "outputs": [],
   "source": [
    "df_TrainTestSplit.isnull().sum()"
   ]
  },
  {
   "cell_type": "code",
   "execution_count": null,
   "id": "0a76709c-1cf8-4dd7-91fa-6cc18195ac3f",
   "metadata": {},
   "outputs": [],
   "source": [
    "df_TrainTestSplit.head()"
   ]
  },
  {
   "cell_type": "code",
   "execution_count": null,
   "id": "100e17a9-91fc-47e3-bfe1-e4d0f18ff44f",
   "metadata": {},
   "outputs": [],
   "source": []
  },
  {
   "cell_type": "code",
   "execution_count": null,
   "id": "1a221339-c973-46f8-9c04-0fece484ddc7",
   "metadata": {},
   "outputs": [],
   "source": []
  },
  {
   "cell_type": "markdown",
   "id": "e0e21faf-b41a-40cb-aca9-fdcdad253528",
   "metadata": {},
   "source": [
    "#### Separating Features and Target"
   ]
  },
  {
   "cell_type": "code",
   "execution_count": null,
   "id": "f43a14d6-6c39-49b4-86d8-69b2f49223e2",
   "metadata": {},
   "outputs": [],
   "source": [
    "X = df_TrainTestSplit.drop('Price', axis=1)  \n",
    "y = df_TrainTestSplit['Price']              \n"
   ]
  },
  {
   "cell_type": "code",
   "execution_count": null,
   "id": "4c7228d6-52be-452e-8d26-854560267042",
   "metadata": {},
   "outputs": [],
   "source": [
    "X.head()"
   ]
  },
  {
   "cell_type": "code",
   "execution_count": null,
   "id": "8dedad86-2d25-4c83-863c-3d3a9314ffe9",
   "metadata": {},
   "outputs": [],
   "source": [
    "y"
   ]
  },
  {
   "cell_type": "code",
   "execution_count": null,
   "id": "b2802146-c16f-4873-9f45-a683e04aa72c",
   "metadata": {},
   "outputs": [],
   "source": []
  },
  {
   "cell_type": "code",
   "execution_count": null,
   "id": "9a34dfdd-a295-4ffc-be67-cbaa08d8ef3b",
   "metadata": {},
   "outputs": [],
   "source": [
    "from sklearn.model_selection import train_test_split\n",
    "X_train, X_val, y_train, y_val = train_test_split(X, y,test_size=0.2,random_state=20)     "
   ]
  },
  {
   "cell_type": "markdown",
   "id": "12625a72-87b8-40d3-93ed-398f664c6853",
   "metadata": {},
   "source": [
    "## 3.7 Scaling\n",
    "* Why Feature Scaling is Important:\n",
    "\n",
    "Many machine learning algorithms (like KNN, SVM, Gradient Descent-based models, Neural Networks) compute distances or rely on the magnitude of features. If one feature has a large range and another has a small range, the model might become biased toward the feature with the larger range."
   ]
  },
  {
   "attachments": {
    "78d23bc0-1915-42a6-b681-beae43ee6649.png": {
     "image/png": "[encoded data removed]"
    },
    "e545afc2-0cd6-44c5-a944-9699a82fbb30.png": {
     "image/png": "[encoded data removed]"
    }
   },
   "cell_type": "markdown",
   "id": "d536ce5b-e864-4df2-9db1-2b36790cbf33",
   "metadata": {},
   "source": [
    "##### Most common techniques:\n",
    "![image.png](attachment:e545afc2-0cd6-44c5-a944-9699a82fbb30.png)\n",
    "![image.png](attachment:78d23bc0-1915-42a6-b681-beae43ee6649.png)"
   ]
  },
  {
   "cell_type": "code",
   "execution_count": null,
   "id": "cfd3eac3-c739-478d-8a16-444430fb1a88",
   "metadata": {},
   "outputs": [],
   "source": [
    "cat_cols=['No_of_Dependents', 'Marital_status', 'Education', 'Personal_loan', 'House_loan',\n",
    " 'Partner_working', 'Make', 'Gender_Female', 'Gender_Male','Profession_Business', 'Profession_Salaried']\n",
    "num_cols= ['Age','Salary', 'Partner_salary', 'Total_salary']"
   ]
  },
  {
   "cell_type": "code",
   "execution_count": null,
   "id": "26a64c77-a709-4bc3-bb8a-854b80a18528",
   "metadata": {},
   "outputs": [],
   "source": [
    "# 1. Min-Max Scaling\n",
    "from sklearn.preprocessing import MinMaxScaler\n",
    "MMscaler = MinMaxScaler()\n",
    "Xtrain_scaled_MinMax = MMscaler.fit_transform(X_train[num_cols])\n",
    "Xval_scaled_MinMax = MMscaler.transform(X_val[num_cols])"
   ]
  },
  {
   "cell_type": "code",
   "execution_count": null,
   "id": "7665b726-838e-4212-83e6-e53f0bd90688",
   "metadata": {},
   "outputs": [],
   "source": [
    "Xtrain_scaled_MinMax=pd.DataFrame(Xtrain_scaled_MinMax,columns=X_train[num_cols].columns)\n",
    "Xval_scaled_MinMax=pd.DataFrame(Xval_scaled_MinMax,columns=X_val[num_cols].columns)"
   ]
  },
  {
   "cell_type": "code",
   "execution_count": null,
   "id": "047dbecd-26d3-4bf8-9c2c-80058131cded",
   "metadata": {},
   "outputs": [],
   "source": [
    "Xtrain_scaled_MinMax.head(2)"
   ]
  },
  {
   "cell_type": "code",
   "execution_count": null,
   "id": "bb71e4e2-6de7-4433-a37b-5d580fdb04d8",
   "metadata": {},
   "outputs": [],
   "source": [
    "X_train.head(2)"
   ]
  },
  {
   "cell_type": "code",
   "execution_count": null,
   "id": "545de2da-fe29-49b3-a015-2702b9ee6e15",
   "metadata": {},
   "outputs": [],
   "source": [
    "(36-X_val['Age'].min())/(X_val['Age'].max()-X_val['Age'].min())"
   ]
  },
  {
   "cell_type": "code",
   "execution_count": null,
   "id": "9cc17ff8-5860-48a4-8129-e2b0f176daab",
   "metadata": {},
   "outputs": [],
   "source": [
    "Xtrain_scaled_MinMax.describe()"
   ]
  },
  {
   "cell_type": "code",
   "execution_count": null,
   "id": "3e7f7bd9-d31b-4bb8-8983-6756039e7e45",
   "metadata": {},
   "outputs": [],
   "source": []
  },
  {
   "cell_type": "code",
   "execution_count": null,
   "id": "ccbe27fd-0527-4583-b9dd-c37f3d95f68b",
   "metadata": {},
   "outputs": [],
   "source": [
    "# 2. z-score Scaling (standardization)\n",
    "from sklearn.preprocessing import StandardScaler\n",
    "SSscaler = StandardScaler()\n",
    "Xtrain_scaled_StandardScalar = SSscaler.fit_transform(X_train[num_cols])\n",
    "Xval_scaled_StandardScalar = SSscaler.transform(X_val[num_cols])"
   ]
  },
  {
   "cell_type": "code",
   "execution_count": null,
   "id": "8d5ce052-0e56-4d92-8388-4ade2cdb3f6e",
   "metadata": {},
   "outputs": [],
   "source": [
    "Xtrain_scaled_StandardScalar=pd.DataFrame(Xtrain_scaled_StandardScalar,columns=X_train[num_cols].columns)\n",
    "Xval_scaled_StandardScalar=pd.DataFrame(Xval_scaled_StandardScalar,columns=X_val[num_cols].columns)"
   ]
  },
  {
   "cell_type": "code",
   "execution_count": null,
   "id": "97cdac67-ef7c-475d-8e99-ae09dce2ca98",
   "metadata": {},
   "outputs": [],
   "source": [
    "round(Xtrain_scaled_StandardScalar.describe(),2)"
   ]
  },
  {
   "cell_type": "code",
   "execution_count": null,
   "id": "3b2f31a0-f87a-42cf-8401-28b988df1952",
   "metadata": {},
   "outputs": [],
   "source": [
    "X_train[num_cols].head(2)"
   ]
  },
  {
   "cell_type": "code",
   "execution_count": null,
   "id": "ab73bf19-f2cf-4ca2-86e7-b2b337d9a954",
   "metadata": {},
   "outputs": [],
   "source": [
    "Xtrain_scaled_StandardScalar.head(2)"
   ]
  },
  {
   "cell_type": "code",
   "execution_count": null,
   "id": "aeb2d856-2b3c-4c5f-942a-2c908e6b6c97",
   "metadata": {},
   "outputs": [],
   "source": [
    "(45- X_train['Age'].mean())/X_train['Age'].std()"
   ]
  },
  {
   "cell_type": "code",
   "execution_count": null,
   "id": "6f0e80ae-e04f-456e-b826-7097c0797be3",
   "metadata": {},
   "outputs": [],
   "source": [
    "Xtrain_scaled_StandardScalar.shape"
   ]
  },
  {
   "cell_type": "code",
   "execution_count": null,
   "id": "b5ca4659-442d-4ce3-9aa8-ce1f6178dd17",
   "metadata": {},
   "outputs": [],
   "source": [
    "X_train[cat_cols].shape"
   ]
  },
  {
   "cell_type": "code",
   "execution_count": null,
   "id": "0f85c61c-ff9e-46c7-924c-d719c14c8591",
   "metadata": {},
   "outputs": [],
   "source": [
    "X_train[cat_cols].reset_index(drop=True)"
   ]
  },
  {
   "cell_type": "code",
   "execution_count": null,
   "id": "0a23d68e-278f-4e4a-9d72-3b99a372eff5",
   "metadata": {},
   "outputs": [],
   "source": [
    "scaled_train=pd.concat([Xtrain_scaled_StandardScalar,X_train[cat_cols].reset_index(drop=True)],axis=1)\n",
    "scaled_test=pd.concat([Xval_scaled_StandardScalar,X_val[cat_cols].reset_index(drop=True)],axis=1)"
   ]
  },
  {
   "cell_type": "code",
   "execution_count": null,
   "id": "e94c4cd2-cb7d-4082-9d26-77771a51a9cc",
   "metadata": {},
   "outputs": [],
   "source": [
    "scaled_train.to_csv('Scaled_data_train',index=False)\n",
    "scaled_test.to_csv('Scaled_data_val',index=False)"
   ]
  },
  {
   "cell_type": "code",
   "execution_count": null,
   "id": "702b8f48-fd5b-4db3-8a8b-ad5267066611",
   "metadata": {},
   "outputs": [],
   "source": []
  },
  {
   "cell_type": "markdown",
   "id": "1ffb0167",
   "metadata": {
    "id": "1ffb0167"
   },
   "source": [
    "# 4-Model Building (Regression), Evaluation & Tuning\n",
    "\n",
    "### 4.1 Regression algorithms\n",
    "    * Linear Regression\n",
    "    * KNN\n",
    "    * Decision Trees (CART)\n",
    "    * Random Forest\n",
    "    * Boosting\n",
    "        * Adaboost,\n",
    "        * Gboost,\n",
    "        * XGboost\n",
    "### 4.2 Model Evaluation: Regression metrics: R² & RMSE \n",
    "1. R-squared (R²) — Coefficient of Determination\n",
    "    * What it means:\n",
    "        * Measures how well the model explains the variability in the target variable.\n",
    "        * Value lies between 0 and 1 (can be negative if model performs worse than the mean).\n",
    "    * Interpretation:\n",
    "        * R² = 1 → perfect prediction\n",
    "        * R² = 0 → model is no better than the average\n",
    "        * Higher is better\n",
    "          ![image.png](attachment:e23679fd-3fe1-4ef2-b9e9-1dfed173e585.png)\n",
    "\n",
    "2. RMSE — Root Mean Squared Error\n",
    "    * What it means:\n",
    "        * Measures average prediction error in the same units as the target variable.\n",
    "        * It gives more weight to larger errors.\n",
    "    * Interpretation:\n",
    "        * Lower is better\n",
    "        * Easy to interpret because it’s in the same unit as \n",
    "          ![image.png](attachment:65110f95-03fd-4549-be04-631970e6b345.png)\n",
    "### 4.3 Model Tuning\n",
    "    * GridSearchCV\n",
    "    * Hyper Parameter Tuning\n"
   ]
  },
  {
   "cell_type": "code",
   "execution_count": null,
   "id": "ffb74750",
   "metadata": {
    "id": "ffb74750"
   },
   "outputs": [],
   "source": [
    "import pandas as pd\n",
    "import numpy as np\n",
    "from sklearn.model_selection import train_test_split\n",
    "from sklearn.metrics import mean_squared_error, r2_score\n",
    "from sklearn.linear_model import LinearRegression\n",
    "from sklearn.neighbors import KNeighborsRegressor\n",
    "from sklearn.tree import DecisionTreeRegressor\n",
    "from sklearn.ensemble import RandomForestRegressor,AdaBoostRegressor,GradientBoostingRegressor\n",
    "#pip install xgboost\n",
    "from xgboost import XGBRegressor"
   ]
  },
  {
   "cell_type": "code",
   "execution_count": null,
   "id": "304102fc-6d73-4c31-b7a5-e9b7ce8875f0",
   "metadata": {},
   "outputs": [],
   "source": [
    "# loading the encoded data\n",
    "df_TrainTestSplit= pd.read_csv('df_encoded')\n",
    "\n",
    "#seperating the target variable from rest of the data\n",
    "X = df_TrainTestSplit.drop('Price', axis=1)  \n",
    "y = df_TrainTestSplit['Price'] \n",
    "\n",
    "# Splitting the data into train & validation set\n",
    "X_train, X_val, y_train, y_val = train_test_split(X, y,test_size=0.2,random_state=20) \n",
    "\n",
    "# Lodaing the scaled data sets\n",
    "x_trainFinal= pd.read_csv('Scaled_data_train')\n",
    "x_valFinal= pd.read_csv('Scaled_data_val')"
   ]
  },
  {
   "cell_type": "code",
   "execution_count": null,
   "id": "93021112-d11d-4a82-901e-e590a43bf359",
   "metadata": {},
   "outputs": [],
   "source": []
  },
  {
   "cell_type": "code",
   "execution_count": null,
   "id": "587523f5-70fe-45a6-8ffd-e1f4e144c82f",
   "metadata": {},
   "outputs": [],
   "source": [
    "# Building a Linear regression model\n",
    "LR = LinearRegression()\n",
    "LR.fit(x_trainFinal,y_train)\n",
    "y_train_pred = LR.predict(x_trainFinal)\n",
    "y_val_pred = LR.predict(x_valFinal)\n",
    "rmse_train = np.sqrt(mean_squared_error(y_train, y_train_pred))\n",
    "r2_train = r2_score(y_train, y_train_pred)\n",
    "rmse_val = np.sqrt(mean_squared_error(y_val, y_val_pred))\n",
    "r2_val = r2_score(y_val, y_val_pred)\n",
    "print(\"Train RMSE\",rmse_train,\"| Train R2\",r2_train)\n",
    "print('Test RMSE',rmse_val,'| Test R2',r2_val)"
   ]
  },
  {
   "cell_type": "code",
   "execution_count": null,
   "id": "472798bb-352b-470e-9c45-7ea0755e9281",
   "metadata": {},
   "outputs": [],
   "source": [
    "# Building a knn model\n",
    "knn = KNeighborsRegressor()\n",
    "knn.fit(x_trainFinal,y_train)\n",
    "y_train_pred = knn.predict(x_trainFinal)\n",
    "y_val_pred = knn.predict(x_valFinal)\n",
    "rmse_train = np.sqrt(mean_squared_error(y_train, y_train_pred))\n",
    "r2_train = r2_score(y_train, y_train_pred)\n",
    "rmse_val = np.sqrt(mean_squared_error(y_val, y_val_pred))\n",
    "r2_val = r2_score(y_val, y_val_pred)\n",
    "print(\"Train RMSE\",rmse_train,\"| Train R2\",r2_train)\n",
    "print('Test RMSE',rmse_val,'| Test R2',r2_val)"
   ]
  },
  {
   "cell_type": "markdown",
   "id": "8f1db364-80ae-49af-b5d3-de9135401e07",
   "metadata": {},
   "source": [
    "##### Building various models and comparing their performance"
   ]
  },
  {
   "cell_type": "code",
   "execution_count": null,
   "id": "c006491e-a064-4a4f-b4f4-805330192adc",
   "metadata": {},
   "outputs": [],
   "source": [
    "models = {\n",
    "    \"Linear Regression\": LinearRegression(),\n",
    "    \"KNN\": KNeighborsRegressor(),\n",
    "    \"Decision Tree\": DecisionTreeRegressor(),\n",
    "    \"Random Forest\": RandomForestRegressor(),\n",
    "    \"AdaBoost\": AdaBoostRegressor(),\n",
    "    \"Gradient Boosting\": GradientBoostingRegressor(),\n",
    "    \"XGBoost\": XGBRegressor()\n",
    "}"
   ]
  },
  {
   "cell_type": "code",
   "execution_count": null,
   "id": "847adbac-eeb3-4589-b13a-9472cfa4ca78",
   "metadata": {},
   "outputs": [],
   "source": [
    "results = []\n",
    "for name, model in models.items():\n",
    "    model.fit(x_trainFinal, y_train)\n",
    "\n",
    "    # Predictions\n",
    "    y_train_pred = model.predict(x_trainFinal)\n",
    "    y_val_pred = model.predict(x_valFinal)\n",
    "\n",
    "    # Metrics\n",
    "    rmse_train = np.sqrt(mean_squared_error(y_train, y_train_pred))\n",
    "    r2_train = r2_score(y_train, y_train_pred)\n",
    "\n",
    "    rmse_val = np.sqrt(mean_squared_error(y_val, y_val_pred))\n",
    "    r2_val = r2_score(y_val, y_val_pred)\n",
    "\n",
    "    # Store result\n",
    "    results.append({\n",
    "        \"Model\": name,\n",
    "        \"Train_RMSE\": rmse_train,\n",
    "        \"Train_R²\": r2_train,\n",
    "        \"Val_RMSE\": rmse_val,\n",
    "        \"Val_R²\": r2_val\n",
    "    })\n",
    "\n",
    "# Convert to DataFrame\n",
    "results_df = pd.DataFrame(results)\n",
    "\n",
    "# Show results sorted by Validation RMSE\n",
    "results_df"
   ]
  },
  {
   "cell_type": "code",
   "execution_count": null,
   "id": "ec03b11b-633d-4ff4-99b0-5de8c994d519",
   "metadata": {},
   "outputs": [],
   "source": []
  },
  {
   "cell_type": "markdown",
   "id": "95fff8ea-0c28-49ec-82ea-daa9240d4c14",
   "metadata": {},
   "source": [
    "#### Using K-Fold Cross Validation (e.g. cv=5) to make models work better"
   ]
  },
  {
   "cell_type": "code",
   "execution_count": null,
   "id": "b8ec3d2f-1c14-4e31-8a05-5f6226b2bbe1",
   "metadata": {},
   "outputs": [],
   "source": [
    "from sklearn.model_selection import cross_val_score, KFold\n",
    "cv = KFold(n_splits=5, shuffle=True, random_state=42)\n",
    "\n",
    "# Store results\n",
    "results = []\n",
    "\n",
    "for name, model in models.items():\n",
    "    # Cross-validation scores (negative RMSE)\n",
    "    neg_mse_scores = cross_val_score(model, x_trainFinal, y_train, scoring='neg_root_mean_squared_error', cv=cv)\n",
    "    r2_scores = cross_val_score(model, x_trainFinal, y_train, scoring='r2', cv=cv)\n",
    "\n",
    "    cv_rmse_mean = -np.mean(neg_mse_scores)\n",
    "    cv_r2_mean = np.mean(r2_scores)\n",
    "\n",
    "    # Train model on full training data\n",
    "    model.fit(x_trainFinal, y_train)\n",
    "\n",
    "    # Predict on validation set\n",
    "    y_val_pred = model.predict(x_valFinal)\n",
    "\n",
    "    val_rmse = np.sqrt(mean_squared_error(y_val, y_val_pred))\n",
    "    val_r2 = r2_score(y_val, y_val_pred)\n",
    "\n",
    "    results.append({\n",
    "        \"Model\": name,\n",
    "        \"CV_RMSE_(Train)\": cv_rmse_mean,\n",
    "        \"CV_R²_(Train)\": cv_r2_mean,\n",
    "        \"Val_RMSE\": val_rmse,\n",
    "        \"Val_R²\": val_r2\n",
    "    })\n",
    "\n",
    "# Display final results\n",
    "results_df = pd.DataFrame(results)\n",
    "results_df"
   ]
  },
  {
   "cell_type": "markdown",
   "id": "023511ab-0cda-4de9-a8c7-b460e22559b2",
   "metadata": {},
   "source": [
    "#### Note Why we use \"neg_root_mean_squared_error\" in cross_val_score:\n",
    "* The issue: cross_val_score() in scikit-learn is designed so that higher scores are better.\n",
    "* But: RMSE (Root Mean Squared Error) is a loss function – lower is better.\n",
    "* So, scikit-learn returns the negative of RMSE to keep all scorers consistent (maximize = better)."
   ]
  },
  {
   "cell_type": "code",
   "execution_count": null,
   "id": "7ab1a82b-edc0-4dcc-9d96-57e7467979c0",
   "metadata": {},
   "outputs": [],
   "source": []
  },
  {
   "cell_type": "markdown",
   "id": "0fe3b9aa-aac8-40f3-b9bc-f51d24b86742",
   "metadata": {},
   "source": [
    "### Model tuning (Hyper parameter Tuning)"
   ]
  },
  {
   "cell_type": "code",
   "execution_count": null,
   "id": "49bc01ae-54a6-448c-93c5-4f35d0d3a4c8",
   "metadata": {},
   "outputs": [],
   "source": [
    "from sklearn.model_selection import GridSearchCV\n",
    "# Define the model\n",
    "rf_model = RandomForestRegressor()\n",
    "# Define hyperparameter grid\n",
    "param_grid = {\"n_estimators\": [50, 100, 150],\"max_depth\": [None, 10, 20],\n",
    "              \"min_samples_split\": [2, 5, 10]}\n",
    "\n",
    "# GridSearchCV setup\n",
    "grid_search = GridSearchCV(\n",
    "    estimator=rf_model,\n",
    "    param_grid=param_grid,\n",
    "    scoring='neg_root_mean_squared_error',  # RMSE as negative (as required by sklearn)\n",
    "    cv=5,\n",
    "    n_jobs=-1,\n",
    "    verbose=1\n",
    ")\n",
    "\n",
    "# Fit on training data\n",
    "grid_search.fit(x_trainFinal, y_train)\n",
    "\n",
    "# Best model\n",
    "best_rf = grid_search.best_estimator_\n",
    "best_params = grid_search.best_params_\n",
    "\n",
    "# Train performance\n",
    "y_train_pred = best_rf.predict(x_trainFinal)\n",
    "train_rmse = np.sqrt(mean_squared_error(y_train, y_train_pred))\n",
    "train_r2 = r2_score(y_train, y_train_pred)\n",
    "\n",
    "# Validation performance\n",
    "y_val_pred = best_rf.predict(x_valFinal)\n",
    "val_rmse = np.sqrt(mean_squared_error(y_val, y_val_pred))\n",
    "val_r2 = r2_score(y_val, y_val_pred)\n",
    "\n",
    "# Print results\n",
    "print(\"Best Hyperparameters for Random Forest:\")\n",
    "print(best_params)\n",
    "\n",
    "print(\"\\n Performance Metrics:\")\n",
    "print(f\"Train RMSE: {train_rmse:.4f}\")\n",
    "print(f\"Train R²   : {train_r2:.4f}\")\n",
    "print(f\"Val RMSE   : {val_rmse:.4f}\")\n",
    "print(f\"Val R²     : {val_r2:.4f}\")\n"
   ]
  },
  {
   "cell_type": "code",
   "execution_count": null,
   "id": "c65a4958-f689-4aa3-992f-ce7a8e47fc58",
   "metadata": {},
   "outputs": [],
   "source": []
  },
  {
   "cell_type": "code",
   "execution_count": null,
   "id": "9bfcb927-3254-4a1c-917d-0a7e689f196c",
   "metadata": {},
   "outputs": [],
   "source": [
    "# Define model\n",
    "ada_model = AdaBoostRegressor(random_state=42)\n",
    "\n",
    "# Define parameter grid\n",
    "param_grid_ada = {\n",
    "    'n_estimators': [50, 100, 150],\n",
    "    'learning_rate': [0.01, 0.1, 1.0]\n",
    "}\n",
    "\n",
    "# Grid search\n",
    "grid_ada = GridSearchCV(\n",
    "    estimator=ada_model,\n",
    "    param_grid=param_grid_ada,\n",
    "    scoring='neg_root_mean_squared_error',\n",
    "    cv=5,\n",
    "    n_jobs=-1,\n",
    "    verbose=1\n",
    ")\n",
    "\n",
    "# Fit model\n",
    "grid_ada.fit(x_trainFinal, y_train)\n",
    "\n",
    "# Best model and params\n",
    "best_ada = grid_ada.best_estimator_\n",
    "best_ada_params = grid_ada.best_params_\n",
    "\n",
    "# Train evaluation\n",
    "y_train_pred = best_ada.predict(x_trainFinal)\n",
    "train_rmse = np.sqrt(mean_squared_error(y_train, y_train_pred))\n",
    "train_r2 = r2_score(y_train, y_train_pred)\n",
    "\n",
    "# Validation evaluation\n",
    "y_val_pred = best_ada.predict(x_valFinal)\n",
    "val_rmse = np.sqrt(mean_squared_error(y_val, y_val_pred))\n",
    "val_r2 = r2_score(y_val, y_val_pred)\n",
    "\n",
    "# Output\n",
    "print(\" Best Hyperparameters for AdaBoost:\")\n",
    "print(best_ada_params)\n",
    "\n",
    "print(\"\\n AdaBoost Performance:\")\n",
    "print(f\"Train RMSE: {train_rmse:.4f}\")\n",
    "print(f\"Train R²   : {train_r2:.4f}\")\n",
    "print(f\"Val RMSE   : {val_rmse:.4f}\")\n",
    "print(f\"Val R²     : {val_r2:.4f}\")\n"
   ]
  },
  {
   "cell_type": "code",
   "execution_count": null,
   "id": "369321b0-65ec-46f7-b2e7-c4bc86f7cb2e",
   "metadata": {},
   "outputs": [],
   "source": []
  },
  {
   "cell_type": "code",
   "execution_count": null,
   "id": "3c7e7d92-f80e-4505-8e86-97c027728f46",
   "metadata": {},
   "outputs": [],
   "source": [
    "# Define model\n",
    "xgb_model = XGBRegressor(objective='reg:squarederror', random_state=42)\n",
    "\n",
    "# Define parameter grid\n",
    "param_grid_xgb = {\n",
    "    'n_estimators': [50, 100],\n",
    "    'learning_rate': [0.05, 0.1, 0.2],\n",
    "    'max_depth': [3, 5, 7]\n",
    "}\n",
    "\n",
    "# Grid search\n",
    "grid_xgb = GridSearchCV(\n",
    "    estimator=xgb_model,\n",
    "    param_grid=param_grid_xgb,\n",
    "    scoring='neg_root_mean_squared_error',\n",
    "    cv=5,\n",
    "    n_jobs=-1,\n",
    "    verbose=1\n",
    ")\n",
    "\n",
    "# Fit model\n",
    "grid_xgb.fit(x_trainFinal, y_train)\n",
    "\n",
    "# Best model and params\n",
    "best_xgb = grid_xgb.best_estimator_\n",
    "best_xgb_params = grid_xgb.best_params_\n",
    "\n",
    "# Train evaluation\n",
    "y_train_pred = best_xgb.predict(x_trainFinal)\n",
    "train_rmse = np.sqrt(mean_squared_error(y_train, y_train_pred))\n",
    "train_r2 = r2_score(y_train, y_train_pred)\n",
    "\n",
    "# Validation evaluation\n",
    "y_val_pred = best_xgb.predict(x_valFinal)\n",
    "val_rmse = np.sqrt(mean_squared_error(y_val, y_val_pred))\n",
    "val_r2 = r2_score(y_val, y_val_pred)\n",
    "\n",
    "# Output\n",
    "print(\" Best Hyperparameters for XGBoost:\")\n",
    "print(best_xgb_params)\n",
    "\n",
    "print(\"\\n XGBoost Performance:\")\n",
    "print(f\"Train RMSE: {train_rmse:.4f}\")\n",
    "print(f\"Train R²   : {train_r2:.4f}\")\n",
    "print(f\"Val RMSE   : {val_rmse:.4f}\")\n",
    "print(f\"Val R²     : {val_r2:.4f}\")\n"
   ]
  },
  {
   "cell_type": "markdown",
   "id": "8ebaf67c",
   "metadata": {
    "id": "8ebaf67c"
   },
   "source": [
    "# 5-Model Building (Classification), Evaluation & Tuning\n",
    "* Data splitting\n",
    "* Classification algorithms\n",
    "    * Logistic Regression\n",
    "    * Naive Bayes, KNN\n",
    "    * Decision Trees (CART)\n",
    "    * Random Forest\n",
    "    * Boosting - Adaboost, Gboost, XGboost\n",
    "* Model Evaluation\n",
    "    * Classification metrics:Accuracy, Precision, Recall, F1-score, Confusion matrix,ROC Curve, AUC\n",
    "* Model Tuning\n",
    "    * GridSearchCV\n",
    "    * RandomSearchCV"
   ]
  },
  {
   "cell_type": "code",
   "execution_count": null,
   "id": "134e6178",
   "metadata": {
    "id": "134e6178"
   },
   "outputs": [],
   "source": [
    "import pandas as pd\n",
    "import numpy as np\n",
    "from sklearn.model_selection import train_test_split\n",
    "from sklearn.metrics import classification_report,confusion_matrix, accuracy_score, precision_score, recall_score, f1_score\n",
    "from sklearn.linear_model import LogisticRegression\n",
    "from sklearn.naive_bayes import GaussianNB\n",
    "from sklearn.neighbors import KNeighborsClassifier\n",
    "from sklearn.tree import DecisionTreeClassifier\n",
    "from sklearn.ensemble import RandomForestClassifier,AdaBoostClassifier,GradientBoostingClassifier\n",
    "#pip install xgboost\n",
    "from xgboost import XGBClassifier"
   ]
  },
  {
   "cell_type": "code",
   "execution_count": null,
   "id": "673ab3ef",
   "metadata": {},
   "outputs": [],
   "source": [
    "df_3= pd.read_csv('df_copy3.csv')\n",
    "\n",
    "cat_variables= df_3.select_dtypes('object')\n",
    "num_variables= df_3.select_dtypes(['int','float'])"
   ]
  },
  {
   "cell_type": "code",
   "execution_count": null,
   "id": "65c86c74",
   "metadata": {},
   "outputs": [],
   "source": [
    "# 1. Ordinal Encoding\n",
    "cat_variables['Education']=pd.Categorical(cat_variables['Education'],ordered= True, \n",
    "                                          categories=['Graduate','Post Graduate']).codes\n",
    "\n",
    "# 2. Nominal Encoding\n",
    "nominal_features=['Marital_status','Personal_loan','House_loan','Partner_working','Make']\n",
    "for i in nominal_features:\n",
    "    cat_variables[i]=pd.Categorical(cat_variables[i],ordered= False).codes\n",
    "    \n",
    "# 3. One Hot  Encoding\n",
    "cat_variables_encoded= pd.get_dummies(cat_variables, columns=['Gender','Profession'], dtype=int)\n",
    "\n",
    "# Concatinating the encoded part and numerical variables\n",
    "df_encoded=pd.concat([num_variables,cat_variables_encoded], axis=1,)\n",
    "df_encoded.to_csv('df_encoded_classification', index=False)"
   ]
  },
  {
   "cell_type": "code",
   "execution_count": null,
   "id": "ba6de637",
   "metadata": {},
   "outputs": [],
   "source": [
    "# loading the encoded data\n",
    "df_TrainTestSplit= pd.read_csv('df_encoded_classification')\n",
    "\n",
    "#seperating the target variable from rest of the data\n",
    "X = df_TrainTestSplit.drop('Make', axis=1)  \n",
    "y = df_TrainTestSplit['Make'] \n",
    "\n",
    "# Splitting the data into train & validation set\n",
    "X_train, X_val, y_train, y_val = train_test_split(X, y,test_size=0.2,random_state=20) \n",
    "\n",
    "cat_cols=['No_of_Dependents', 'Marital_status', 'Education', 'Personal_loan', 'House_loan',\n",
    " 'Partner_working','Gender_Female', 'Gender_Male','Profession_Business', 'Profession_Salaried']\n",
    "num_cols= ['Age','Salary', 'Partner_salary', 'Total_salary', 'Price']\n",
    "\n",
    "from sklearn.preprocessing import StandardScaler\n",
    "SSscaler = StandardScaler()\n",
    "Xtrain_scaled_StandardScalar = SSscaler.fit_transform(X_train[num_cols])\n",
    "Xval_scaled_StandardScalar = SSscaler.transform(X_val[num_cols])\n",
    "\n",
    "Xtrain_scaled_StandardScalar=pd.DataFrame(Xtrain_scaled_StandardScalar,columns=X_train[num_cols].columns)\n",
    "Xval_scaled_StandardScalar=pd.DataFrame(Xval_scaled_StandardScalar,columns=X_val[num_cols].columns)"
   ]
  },
  {
   "cell_type": "code",
   "execution_count": null,
   "id": "faba7c72",
   "metadata": {},
   "outputs": [],
   "source": []
  },
  {
   "cell_type": "code",
   "execution_count": null,
   "id": "0a76a000",
   "metadata": {},
   "outputs": [],
   "source": []
  },
  {
   "cell_type": "code",
   "execution_count": null,
   "id": "3aad7227",
   "metadata": {},
   "outputs": [],
   "source": [
    "Xtrain_scaled_StandardScalar.head()"
   ]
  },
  {
   "cell_type": "code",
   "execution_count": null,
   "id": "e8a026d7",
   "metadata": {},
   "outputs": [],
   "source": [
    "gb=GradientBoostingClassifier()\n",
    "gb.fit(Xtrain_scaled_StandardScalar,y_train)\n",
    "preds_train=gb.predict(Xtrain_scaled_StandardScalar)\n",
    "preds_val=gb.predict(Xval_scaled_StandardScalar)\n",
    "print(classification_report(y_train,preds_train))"
   ]
  },
  {
   "cell_type": "code",
   "execution_count": null,
   "id": "8444bd48",
   "metadata": {},
   "outputs": [],
   "source": []
  },
  {
   "cell_type": "code",
   "execution_count": null,
   "id": "2d1b5df3",
   "metadata": {},
   "outputs": [],
   "source": []
  },
  {
   "cell_type": "code",
   "execution_count": null,
   "id": "b2c82623",
   "metadata": {},
   "outputs": [],
   "source": []
  },
  {
   "cell_type": "code",
   "execution_count": null,
   "id": "48799b21",
   "metadata": {},
   "outputs": [],
   "source": [
    "models = {\n",
    "    \"Logistic Regression\": LogisticRegression(),\n",
    "    \"KNN\": KNeighborsClassifier(),\n",
    "    \"Decision Tree\": DecisionTreeClassifier(),\n",
    "    \"Random Forest\": RandomForestClassifier(),\n",
    "    \"AdaBoost\": AdaBoostClassifier(),\n",
    "    \"Gradient Boosting\": GradientBoostingClassifier(),\n",
    "    \"XGBoost\": XGBClassifier()\n",
    "}\n",
    "\n",
    "results = []\n",
    "for name, model in models.items():\n",
    "    model.fit(Xtrain_scaled_StandardScalar, y_train)\n",
    "\n",
    "    # Predictions\n",
    "    y_train_pred = model.predict(Xtrain_scaled_StandardScalar)\n",
    "    y_val_pred = model.predict(Xval_scaled_StandardScalar)\n",
    "\n",
    "    # Metrics\n",
    "    Accuracy_train = accuracy_score(y_train, y_train_pred)\n",
    "    #Precision_train = precision_score(y_train, y_train_pred,average=None)\n",
    "    #Recall_train = recall_score(y_train, y_train_pred,average=None)\n",
    "    #F1_score_train = f1_score(y_train, y_train_pred,average=None)\n",
    "\n",
    "    Accuracy_val = accuracy_score(y_val, y_val_pred)\n",
    "    #Precision_test = precision_score(y_val, y_val_pred,average=None)\n",
    "    #Recall_test = recall_score(y_val, y_val_pred,average=None)\n",
    "    #F1_score_test = f1_score(y_val, y_val_pred,average=None)\n",
    "\n",
    "    # Store result\n",
    "    results.append({\n",
    "        \"Model\": name,\n",
    "        \"Accuracy_train\": Accuracy_train,\n",
    "        \"Accuracy_val\": Accuracy_val,\n",
    "        #\"Precision_train\": Precision_train,\n",
    "        #\"Precision_test\": Precision_test,\n",
    "        #\"Recall_train\": Recall_train,\n",
    "        #\"Recall_test\" : Recall_test,\n",
    "        #\"F1_score_train\": F1_score_train,\n",
    "        #\"F1_score_test\" : F1_score_test\n",
    "        \n",
    "    })\n",
    "\n",
    "# Convert to DataFrame\n",
    "results_df = pd.DataFrame(results)\n",
    "\n",
    "# Show results sorted by Validation RMSE\n",
    "results_df"
   ]
  },
  {
   "cell_type": "code",
   "execution_count": null,
   "id": "11a7dc04",
   "metadata": {},
   "outputs": [],
   "source": []
  }
 ],
 "metadata": {
  "colab": {
   "provenance": []
  },
  "kernelspec": {
   "display_name": "Python 3 (ipykernel)",
   "language": "python",
   "name": "python3"
  },
  "language_info": {
   "codemirror_mode": {
    "name": "ipython",
    "version": 3
   },
   "file_extension": ".py",
   "mimetype": "text/x-python",
   "name": "python",
   "nbconvert_exporter": "python",
   "pygments_lexer": "ipython3",
   "version": "3.11.5"
  }
 },
 "nbformat": 4,
 "nbformat_minor": 5
}
